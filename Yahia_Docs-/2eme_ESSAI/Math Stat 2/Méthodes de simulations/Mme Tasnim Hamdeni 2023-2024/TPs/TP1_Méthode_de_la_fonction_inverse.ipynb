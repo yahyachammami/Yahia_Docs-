{
  "cells": [
    {
      "cell_type": "markdown",
      "id": "290561f3",
      "metadata": {
        "id": "290561f3"
      },
      "source": [
        "\n",
        "<img src=\"https://user-images.githubusercontent.com/7065401/55025843-7d99a280-4fe0-11e9-938a-4879d95c4130.png\"\n",
        "    style=\"width:150px; float: right; margin: 0 40px 40px 40px;\"></img>\n",
        "\n",
        "<!-- <img src=\"https://scontent.ftun15-1.fna.fbcdn.net/v/t39.30808-6/311004579_479229304250165_9026324343313302553_n.png?_nc_cat=109&ccb=1-7&_nc_sid=5f2048&_nc_ohc=RW7tL5PHPcIAX9bZ7lp&_nc_ht=scontent.ftun15-1.fna&oh=00_AfB8mMPGwpjTQwlySZkZJ_9dlXOjjsjJ5E39VDPOwIEeuQ&oe=654F55AB\" width=\"100\" height=\"100\" style=\"float: left; margin-right: 10px;\" > -->\n",
        "    \n",
        "#   <div style=\"text-align: center;\"> Méthodes de Monte Carlo (2023-2024)  </div>\n",
        "#   <div style=\"text-align: center;\">TP1: Méthode de la fonction inverse\n",
        "  </div>     \n",
        "\n",
        "![purple-divider](https://user-images.githubusercontent.com/7065401/52071927-c1cd7100-2562-11e9-908a-dde91ba14e59.png)"
      ]
    },
    {
      "cell_type": "markdown",
      "id": "82a68e49",
      "metadata": {
        "id": "82a68e49"
      },
      "source": [
        "\n",
        "# Objectif\n",
        "\n",
        "Il s’agit de mettre en oeuvre les méthodes de la fonction inverse et de transformation\n",
        "afin de simuler un grand nombre ($x_1, . . . ,x_n$) de réalisations d’une variable aléatoire $X$ à partir\n",
        "d’un générateur de la loi uniforme sur $[0,1]$ (notée $U([0,1])$).\n",
        "\n",
        "\n",
        "# Principe\n",
        "\n",
        "Le principe de la méthode de transformée inverse est une technique couramment utilisée en probabilité et statistiques pour générer des nombres aléatoires à partir d'une distribution de probabilité donnée. Elle repose sur le fait que si on a une variable aléatoire X avec une fonction de répartition F(X), alors la variable aléatoire U=F(X) suit une loi uniforme sur [0,1]. Le but est de générer des échantillons aléatoires de la variable aléatoire X à partir de U.\n",
        "\n",
        "Les étapes à suivre pour appliquer la méthode de la transformée inverse sont:\n",
        "- Obtenir la fonction de répartition à partir de $f_X(x)$.\n",
        "- Trouver l'inverse de la fonction de répartition $F^{-1}_X(u)$.\n",
        "- Générer les valeurs aléatoires:\n",
        "    -  Générer $u$ de la loi Uniforme $(0,1).$\n",
        "    - Calculer $x=F^{-1}_X(u)$\n",
        "    \n",
        "    \n",
        "![image.png](attachment:image.png)\n",
        "\n"
      ]
    },
    {
      "cell_type": "markdown",
      "id": "b8de6175",
      "metadata": {
        "id": "b8de6175"
      },
      "source": [
        "# Exercice 1:\n",
        "\n",
        "####  1. Écrire une fonction pour générer $n$ nombres aléatoires à partir de la distribution qui a pour densité : $f_X(x)=3x^2$, $0<x<1$.\n"
      ]
    },
    {
      "cell_type": "code",
      "execution_count": null,
      "id": "ea746989",
      "metadata": {
        "id": "ea746989"
      },
      "outputs": [],
      "source": [
        "import numpy as np\n",
        "import pandas as pd\n",
        "import matplotlib.pyplot as plt\n"
      ]
    },
    {
      "cell_type": "code",
      "execution_count": null,
      "id": "638e3c41",
      "metadata": {
        "id": "638e3c41"
      },
      "outputs": [],
      "source": [
        "# Fonction pour générer des nombres aléatoires selon la distribution spécifiée\n",
        "def generate_it(n):\n",
        "    np.random.seed(2023)\n",
        "    u = np.random.uniform(0, 1, n)\n",
        "    #autrement: u = np.random.uniform(low=1, high=10)\n",
        "\n",
        "    xgen = np.cbrt(u)  # Cube root in Python is cbrt\n",
        "   # xgen = u^(1/3)  # autrement\n",
        "    return xgen"
      ]
    },
    {
      "cell_type": "code",
      "execution_count": null,
      "id": "4a3bcb3e",
      "metadata": {
        "id": "4a3bcb3e",
        "outputId": "fb34a4fb-8f07-401b-b9fa-22116ef3a06c"
      },
      "outputs": [
        {
          "name": "stdout",
          "output_type": "stream",
          "text": [
            "[0.6854041  0.96205234 0.83779669 0.50211913 0.52090231 0.77633587\n",
            " 0.28058408 0.89928944 0.8064004  0.81679856]\n"
          ]
        }
      ],
      "source": [
        "# Générer 10 nombres aléatoires\n",
        "A = generate_it(10)\n",
        "print(A)"
      ]
    },
    {
      "cell_type": "code",
      "execution_count": null,
      "id": "2b72f9c9",
      "metadata": {
        "id": "2b72f9c9",
        "outputId": "1e5b645b-f69e-4b82-e409-282cca1c065e"
      },
      "outputs": [
        {
          "name": "stdout",
          "output_type": "stream",
          "text": [
            "          A\n",
            "0  0.685404\n",
            "1  0.962052\n",
            "2  0.837797\n",
            "3  0.502119\n",
            "4  0.520902\n",
            "5  0.776336\n",
            "6  0.280584\n",
            "7  0.899289\n",
            "8  0.806400\n",
            "9  0.816799\n"
          ]
        }
      ],
      "source": [
        "mydata = pd.DataFrame({'A': A})\n",
        "print(mydata)"
      ]
    },
    {
      "cell_type": "code",
      "execution_count": null,
      "id": "1ab1155c",
      "metadata": {
        "id": "1ab1155c",
        "outputId": "04c80707-1d59-4be5-be18-42721db6d70a"
      },
      "outputs": [
        {
          "data": {
            "text/html": [
              "<div>\n",
              "<style scoped>\n",
              "    .dataframe tbody tr th:only-of-type {\n",
              "        vertical-align: middle;\n",
              "    }\n",
              "\n",
              "    .dataframe tbody tr th {\n",
              "        vertical-align: top;\n",
              "    }\n",
              "\n",
              "    .dataframe thead th {\n",
              "        text-align: right;\n",
              "    }\n",
              "</style>\n",
              "<table border=\"1\" class=\"dataframe\">\n",
              "  <thead>\n",
              "    <tr style=\"text-align: right;\">\n",
              "      <th></th>\n",
              "      <th>A</th>\n",
              "    </tr>\n",
              "  </thead>\n",
              "  <tbody>\n",
              "    <tr>\n",
              "      <th>0</th>\n",
              "      <td>0.685404</td>\n",
              "    </tr>\n",
              "    <tr>\n",
              "      <th>1</th>\n",
              "      <td>0.962052</td>\n",
              "    </tr>\n",
              "    <tr>\n",
              "      <th>2</th>\n",
              "      <td>0.837797</td>\n",
              "    </tr>\n",
              "    <tr>\n",
              "      <th>3</th>\n",
              "      <td>0.502119</td>\n",
              "    </tr>\n",
              "    <tr>\n",
              "      <th>4</th>\n",
              "      <td>0.520902</td>\n",
              "    </tr>\n",
              "  </tbody>\n",
              "</table>\n",
              "</div>"
            ],
            "text/plain": [
              "          A\n",
              "0  0.685404\n",
              "1  0.962052\n",
              "2  0.837797\n",
              "3  0.502119\n",
              "4  0.520902"
            ]
          },
          "execution_count": 31,
          "metadata": {},
          "output_type": "execute_result"
        }
      ],
      "source": [
        "# Créer un DataFrame et l'écrire dans un fichier Excel\n",
        "mydata = pd.DataFrame({'A': A})\n",
        "\n",
        "\n",
        "# Écrire le DataFrame dans un fichier Excel\n",
        "# Note: L'installation d'un package en Python est généralement effectuée en dehors du script avec pip ou conda\n",
        "mydata.to_excel(\"tp1_simulation.xlsx\")\n",
        "\n",
        "# Vérifier le contenu de mydata\n",
        "mydata.head()"
      ]
    },
    {
      "cell_type": "markdown",
      "id": "32957456",
      "metadata": {
        "id": "32957456"
      },
      "source": [
        "#### 2. Visualiser la distribution théorique\n",
        "\n"
      ]
    },
    {
      "cell_type": "code",
      "execution_count": null,
      "id": "64ae0eb6",
      "metadata": {
        "id": "64ae0eb6"
      },
      "outputs": [],
      "source": [
        "# Fonction pour générer la distribution théorique\n",
        "def generate_theoretical_distribution():\n",
        "    x = np.arange(0, 1.01, 0.01)  # similaire à seq(0, 1, by=0.01) en R\n",
        "    fx = 3 * x**2\n",
        "    return pd.DataFrame({'x': x, 'fx': fx})\n",
        "# ==> Generate regular sequences."
      ]
    },
    {
      "cell_type": "code",
      "execution_count": null,
      "id": "1d3118b6",
      "metadata": {
        "id": "1d3118b6",
        "outputId": "4c8ae00b-e4c7-4f84-bf3a-cdaa71cf982c"
      },
      "outputs": [
        {
          "name": "stdout",
          "output_type": "stream",
          "text": [
            "        x      fx\n",
            "0    0.00  0.0000\n",
            "1    0.01  0.0003\n",
            "2    0.02  0.0012\n",
            "3    0.03  0.0027\n",
            "4    0.04  0.0048\n",
            "..    ...     ...\n",
            "96   0.96  2.7648\n",
            "97   0.97  2.8227\n",
            "98   0.98  2.8812\n",
            "99   0.99  2.9403\n",
            "100  1.00  3.0000\n",
            "\n",
            "[101 rows x 2 columns]\n"
          ]
        }
      ],
      "source": [
        "# Générer la distribution théorique\n",
        "theoretical_df = generate_theoretical_distribution()\n",
        "print(theoretical_df)\n"
      ]
    },
    {
      "cell_type": "code",
      "execution_count": null,
      "id": "444811ce",
      "metadata": {
        "id": "444811ce",
        "outputId": "37b696e4-3db1-4f1f-dca6-8ffcf5893704"
      },
      "outputs": [
        {
          "data": {
            "image/png": "[encoded data removed]",
            "text/plain": [
              "<Figure size 640x480 with 1 Axes>"
            ]
          },
          "metadata": {},
          "output_type": "display_data"
        }
      ],
      "source": [
        "# Visualisation de la distribution théorique avec Matplotlib\n",
        "import matplotlib.pyplot as plt\n",
        "\n",
        "plt.plot(theoretical_df['x'], theoretical_df['fx'], color='red')\n",
        "plt.title('Distribution Théorique')\n",
        "plt.xlabel('x')\n",
        "plt.ylabel('f(x)')\n",
        "plt.grid(True)\n",
        "plt.show()"
      ]
    },
    {
      "cell_type": "markdown",
      "id": "bd95db0a",
      "metadata": {
        "id": "bd95db0a"
      },
      "source": [
        "#### 3. Visualiser la distribution empirique (compte)\n"
      ]
    },
    {
      "cell_type": "code",
      "execution_count": null,
      "id": "5e259eb3",
      "metadata": {
        "id": "5e259eb3",
        "outputId": "f93eb521-e35e-41d8-d683-671739f8f57b"
      },
      "outputs": [
        {
          "data": {
            "image/png": "[encoded data removed]",
            "text/plain": [
              "<Figure size 640x480 with 1 Axes>"
            ]
          },
          "metadata": {},
          "output_type": "display_data"
        }
      ],
      "source": [
        "def plot_empirical_distribution(n, bin_width):\n",
        "    data_emp = generate_it(n)\n",
        "    empirical_df = pd.DataFrame({'data_emp': data_emp})\n",
        "\n",
        "    # Histogramme pour la distribution empirique\n",
        "    plt.hist(empirical_df['data_emp'])\n",
        "#              bins=np.arange(0, 1 + bin_width, bin_width),\n",
        "#              color='red', edgecolor='black', alpha=0.7,\n",
        "#              density=False)\n",
        "    # alpha= 1 (opaque ), alpha=0 (transparent)\n",
        "#     plt.title('Distribution Empirique')\n",
        "#     plt.xlabel('Données Empiriques')\n",
        "#     plt.ylabel('Count')\n",
        "#     plt.grid(True)\n",
        "#     plt.show()\n",
        "# Plot empirical distribution with 1000 samples and bin width of 0.05\n",
        "plot_empirical_distribution(n=1000, bin_width=0.05)"
      ]
    },
    {
      "cell_type": "code",
      "execution_count": null,
      "id": "94326443",
      "metadata": {
        "id": "94326443",
        "outputId": "4d9ec75a-f13b-4871-c9de-6f067a5bf3d6"
      },
      "outputs": [
        {
          "data": {
            "image/png": "[encoded data removed]",
            "text/plain": [
              "<Figure size 640x480 with 1 Axes>"
            ]
          },
          "metadata": {},
          "output_type": "display_data"
        }
      ],
      "source": [
        "# Fonction pour générer la distribution empirique avec 1000 points de données\n",
        "def plot_empirical_distribution(n, bin_width):\n",
        "    data_emp = generate_it(n)\n",
        "    empirical_df = pd.DataFrame({'data_emp': data_emp})\n",
        "\n",
        "    # Histogramme pour la distribution empirique\n",
        "    plt.hist(empirical_df['data_emp'],\n",
        "             bins=np.arange(0, 1 + bin_width, bin_width),\n",
        "             color='red', edgecolor='black', alpha=0.7,\n",
        "             density=False)\n",
        "    # alpha= 1 (opaque ), alpha=0 (transparent)\n",
        "    plt.title('Distribution Empirique')\n",
        "    plt.xlabel('Données Empiriques')\n",
        "    plt.ylabel('Count')\n",
        "    plt.grid(True)\n",
        "    plt.show()\n",
        "# Plot empirical distribution with 1000 samples and bin width of 0.05\n",
        "plot_empirical_distribution(n=1000, bin_width=0.05)"
      ]
    },
    {
      "cell_type": "markdown",
      "id": "4b10a7d6",
      "metadata": {
        "id": "4b10a7d6"
      },
      "source": [
        "#### 4.  Visualiser la distribution empirique (densité).\n"
      ]
    },
    {
      "cell_type": "code",
      "execution_count": null,
      "id": "2f96215f",
      "metadata": {
        "id": "2f96215f",
        "outputId": "3b10c875-b0e5-4505-fefe-8ce41506d51f"
      },
      "outputs": [
        {
          "data": {
            "image/png": "[encoded data removed]",
            "text/plain": [
              "<Figure size 640x480 with 1 Axes>"
            ]
          },
          "metadata": {},
          "output_type": "display_data"
        }
      ],
      "source": [
        "# Fonction pour générer la distribution empirique avec 1000 points de données\n",
        "def plot_empirical_distribution(n, bin_width):\n",
        "    data_emp = generate_it(n)\n",
        "    empirical_df = pd.DataFrame({'data_emp': data_emp})\n",
        "\n",
        "    # Histogramme pour la distribution empirique\n",
        "    plt.hist(empirical_df['data_emp'], bins=np.arange(0, 1 + bin_width, bin_width), color='red',\n",
        "             edgecolor='black', alpha=0.7, density=True)\n",
        "    # density=True: aire sous l'histogamme =1: ( Normalisation de l'histogramme.)\n",
        "    plt.title('Distribution Empirique')\n",
        "    plt.xlabel('Données Empiriques')\n",
        "    plt.ylabel('Denstité')\n",
        "    plt.grid(True)\n",
        "    plt.show()\n",
        "\n",
        "# Plot empirical distribution with 1000 samples and bin width of 0.05\n",
        "plot_empirical_distribution(n=1000, bin_width=0.05)\n"
      ]
    },
    {
      "cell_type": "markdown",
      "id": "d9f2f98b",
      "metadata": {
        "id": "d9f2f98b"
      },
      "source": [
        "#### 5.  Visualiser dans la même figure les distributions empiriques et théoriques. Conclure."
      ]
    },
    {
      "cell_type": "code",
      "execution_count": null,
      "id": "ecef7235",
      "metadata": {
        "id": "ecef7235",
        "outputId": "cf7b689b-b6e5-4239-d835-28795ba43c9c"
      },
      "outputs": [
        {
          "data": {
            "image/png": "[encoded data removed]",
            "text/plain": [
              "<Figure size 640x480 with 1 Axes>"
            ]
          },
          "metadata": {},
          "output_type": "display_data"
        }
      ],
      "source": [
        "def plot_combined_distributions(n=1000, bin_width=0.05):\n",
        "    data_emp = generate_it(n)\n",
        "    empirical_df = pd.DataFrame({'data_emp': data_emp})\n",
        "\n",
        "    # Préparer le graphique de la distribution empirique\n",
        "    plt.hist(empirical_df['data_emp'], bins=np.arange(0, 1 + bin_width, bin_width), color='blue', edgecolor='black', alpha=0.5, density=True, label='Empirical Density')\n",
        "\n",
        "    # Ajouter la distribution théorique\n",
        "    plt.plot(theoretical_df['x'], theoretical_df['fx'], color='red', label='Theoretical Density')\n",
        "\n",
        "    # Ajouter des titres et des légendes\n",
        "    plt.title('Distribution Théorique vs Empirique')\n",
        "    plt.xlabel('Valeurs')\n",
        "    plt.ylabel('Densité')\n",
        "    plt.legend()\n",
        "    plt.grid(True)\n",
        "\n",
        "    # Afficher le graphique\n",
        "    plt.show()\n",
        "\n",
        "# Afficher les distributions combinées\n",
        "plot_combined_distributions()\n",
        "\n",
        "# ==> Superposition des distributions théorique et empirique"
      ]
    },
    {
      "cell_type": "markdown",
      "id": "93dd915c",
      "metadata": {
        "id": "93dd915c"
      },
      "source": [
        "\n",
        "\n",
        "# Exercice 2:\n",
        "\n",
        "1. Simuler un échantillon de taille $1000$ de variables aléatoires indépendantes et identiquement distribuées suivant la loi exponentielle de paramètre $\\lambda = 2$ en utilisant la méthode d'inversion.\n"
      ]
    },
    {
      "cell_type": "code",
      "execution_count": null,
      "id": "11e66398",
      "metadata": {
        "id": "11e66398"
      },
      "outputs": [],
      "source": [
        "import numpy as np\n",
        "import matplotlib.pyplot as plt\n"
      ]
    },
    {
      "cell_type": "code",
      "execution_count": null,
      "id": "0e89e179",
      "metadata": {
        "id": "0e89e179",
        "outputId": "da4607e3-87e7-4153-dcdc-f19b39e28ca4"
      },
      "outputs": [
        {
          "name": "stdout",
          "output_type": "stream",
          "text": [
            "[log(-1/(u - 1))/lambda]\n"
          ]
        }
      ],
      "source": [
        "from sympy import symbols, solve, log, exp, lambdify\n",
        "\n",
        "\n",
        "x, u, lambda_ = symbols('x u lambda')\n",
        "\n",
        "\n",
        "F_x = 1 - exp(-lambda_ * x)\n",
        "inverse_f = solve(F_x - u , x)\n",
        "print(inverse_f)"
      ]
    },
    {
      "cell_type": "code",
      "execution_count": null,
      "id": "b822cbdf",
      "metadata": {
        "id": "b822cbdf",
        "outputId": "28a0b17d-9e03-4165-c718-79b7b289d43d"
      },
      "outputs": [
        {
          "name": "stdout",
          "output_type": "stream",
          "text": [
            "<function _lambdifygenerated at 0x0000023763EE0540>\n"
          ]
        }
      ],
      "source": [
        "numerical_inverse_f = lambdify((u, lambda_),inverse_f) # lambdify est un pont entre numpy et sympy\n",
        "# le premier élément de la solution (dans ce cas le seul élément)\n"
      ]
    },
    {
      "cell_type": "code",
      "execution_count": null,
      "id": "f250ced5",
      "metadata": {
        "id": "f250ced5",
        "outputId": "67fec481-654c-45d5-c9f7-91aab1721cd8"
      },
      "outputs": [
        {
          "data": {
            "text/plain": [
              "[array([5.96136072e-01, 1.68533741e-01, 1.28642040e-01, 4.00716841e-01,\n",
              "        6.35535468e-01, 2.75048768e-01, 1.97549103e+00, 5.77321137e-01,\n",
              "        3.27860097e-01, 2.48886851e-01, 2.10171125e-01, 6.52909949e-01,\n",
              "        2.88636088e-01, 3.07663996e-02, 2.53785675e-01, 6.69696620e-01,\n",
              "        1.00747130e-01, 9.64598129e-02, 3.79164420e-01, 3.79459324e-01,\n",
              "        5.03109031e-01, 9.46669551e-01, 6.44502752e-01, 4.72118188e-01,\n",
              "        6.40865170e-01, 1.95011660e-01, 2.24542895e-01, 1.29555880e-01,\n",
              "        1.73867545e-01, 4.98446966e-01, 4.83132398e-02, 2.84316688e-01,\n",
              "        2.81816842e-01, 3.40298233e-01, 2.77415132e-01, 1.87173099e-01,\n",
              "        2.77869052e-01, 1.11928506e+00, 1.44263257e+00, 3.48413648e-01,\n",
              "        4.89020508e-01, 6.14333149e-02, 1.90839244e-01, 2.67923201e-01,\n",
              "        1.00611265e+00, 1.44144705e-01, 3.29889341e-01, 2.11886915e+00,\n",
              "        3.66448541e-01, 4.74529040e-01, 6.42740100e-02, 8.75330262e-01,\n",
              "        4.61985233e-01, 3.93803668e-01, 2.09855932e-01, 1.81289591e-01,\n",
              "        2.69803096e-01, 5.71753730e-01, 1.04155149e+00, 3.57106086e-01,\n",
              "        5.53292669e-01, 4.40868031e-01, 4.90285979e-01, 5.61486894e-01,\n",
              "        9.23664962e-01, 4.34302333e-02, 7.21290242e-01, 1.39636348e-01,\n",
              "        1.07974100e-01, 4.24850156e-01, 5.03039783e-02, 1.08283458e+00,\n",
              "        4.93422284e-01, 6.42621001e-01, 8.13034908e-03, 4.51233214e-01,\n",
              "        4.06850367e-01, 8.65578173e-02, 8.30689203e-02, 5.94590586e-01,\n",
              "        1.91925023e-01, 5.88779529e-01, 4.04148000e-01, 2.46288715e-01,\n",
              "        1.29601763e+00, 9.21536898e-01, 2.21114523e-01, 2.22850590e-02,\n",
              "        1.81754891e-01, 2.53903161e-01, 6.10320187e-01, 2.68635691e+00,\n",
              "        2.19962183e-01, 7.18894498e-01, 4.49688436e-01, 5.88343889e-01,\n",
              "        8.19231122e-02, 2.54477265e-01, 1.37781831e-01, 2.10382793e-01,\n",
              "        3.59877170e-01, 5.49242974e-01, 5.59735717e-02, 7.01456379e-02,\n",
              "        1.94289694e-01, 5.41710634e-01, 9.37047634e-01, 4.02886283e-01,\n",
              "        9.63626350e-01, 2.42934662e-01, 1.90474961e-01, 2.18682787e-01,\n",
              "        9.38169185e-02, 8.83375310e-01, 2.06751800e-01, 4.01894224e-01,\n",
              "        4.32028808e-01, 3.68584080e-01, 1.34584195e-03, 2.22602799e+00,\n",
              "        1.17874020e+00, 1.16367111e-01, 1.73001343e-01, 3.66995164e-01,\n",
              "        1.16094192e+00, 2.05617947e+00, 1.48894531e-01, 4.15468434e-01,\n",
              "        8.22451422e-01, 2.50743065e-01, 6.56657722e-01, 8.78134169e-02,\n",
              "        4.59019339e-01, 1.00445224e+00, 2.05285270e+00, 4.13462441e-02,\n",
              "        2.79611798e-01, 1.14419155e-01, 2.99497463e-01, 3.96775083e-01,\n",
              "        4.89865518e-02, 1.76100182e-01, 1.31266566e+00, 4.20827923e-01,\n",
              "        3.05702495e-01, 7.00249365e-01, 6.77130771e-01, 2.48993285e-02,\n",
              "        6.16696337e-01, 9.13931767e-01, 9.07237000e-02, 7.59337067e-01,\n",
              "        1.68812082e-01, 1.82980213e-01, 5.47202773e-01, 5.90496394e-02,\n",
              "        5.46622035e-01, 1.09398929e+00, 5.95876005e-01, 2.90202080e-01,\n",
              "        2.88317484e-01, 7.24289382e-01, 4.16943101e-01, 4.43632398e-02,\n",
              "        4.36940305e-01, 8.43277481e-01, 2.05540210e-01, 1.31261277e+00,\n",
              "        6.94583242e-01, 4.26732884e-01, 6.96446017e-01, 4.12284969e-02,\n",
              "        9.80879302e-01, 8.61594861e-01, 1.20326031e+00, 6.88449838e-02,\n",
              "        4.26591803e-02, 7.44911138e-02, 2.54895338e-01, 2.76090253e-01,\n",
              "        4.13017537e-01, 6.51930576e-02, 1.12447230e-01, 8.34711669e-01,\n",
              "        3.15544216e-01, 8.24969067e-01, 3.72704569e-03, 4.01026683e-01,\n",
              "        1.34362512e+00, 4.36346847e-01, 1.15396194e-01, 6.32494435e-01,\n",
              "        2.38200705e-01, 5.51888723e-01, 1.48790683e-02, 5.05163855e-01,\n",
              "        1.63638454e-02, 6.82815964e-01, 3.20194831e-01, 6.49144736e-02,\n",
              "        3.91137772e-01, 3.45541765e-02, 5.29741277e-01, 2.77163953e+00,\n",
              "        7.33529562e-01, 4.26392912e-01, 5.41464383e-02, 6.01709937e-01,\n",
              "        5.41125239e-01, 2.51716785e-02, 7.85828593e-01, 3.65649487e-01,\n",
              "        2.77447706e-01, 7.76026144e-01, 2.65147993e-01, 3.27951012e-01,\n",
              "        1.00219654e-01, 1.93801961e-01, 9.33887388e-01, 1.03452893e-01,\n",
              "        2.70033732e-01, 2.25650099e+00, 1.34986446e-01, 1.24344831e+00,\n",
              "        1.25294749e+00, 4.78681235e-02, 3.11486713e-01, 3.48794852e-01,\n",
              "        1.88197594e-01, 2.42483607e-02, 1.38328626e-01, 5.02028729e-02,\n",
              "        1.36068369e-01, 8.24586203e-01, 1.12679408e+00, 2.20924109e-02,\n",
              "        1.79730007e-01, 1.97078252e+00, 3.87726448e-01, 4.92163497e-01,\n",
              "        2.78042063e-03, 3.31706278e-01, 2.22530414e+00, 2.35150259e-01,\n",
              "        5.10374920e-02, 3.09863573e-01, 1.64847904e+00, 2.09146477e-01,\n",
              "        8.02033016e-01, 8.01843071e-01, 1.16753721e-01, 2.92925202e-01,\n",
              "        6.28689032e-01, 2.64257061e-01, 1.05982480e-01, 1.71317001e+00,\n",
              "        5.25984165e-01, 1.00294631e+00, 1.27832055e-02, 1.55240546e-01,\n",
              "        3.48648992e-01, 3.49155230e-02, 2.48330402e+00, 1.34896452e-01,\n",
              "        2.34435881e-01, 1.20406823e-01, 5.57149296e-02, 1.32295231e-01,\n",
              "        1.78773473e-01, 5.03165529e-01, 1.65110257e-01, 2.24925442e-01,\n",
              "        2.98028635e-03, 2.27631702e-01, 3.81662500e-01, 8.83780387e-02,\n",
              "        4.54947003e-01, 1.73470146e-01, 4.99904782e-01, 1.32729246e-02,\n",
              "        1.09281658e+00, 8.12497429e-03, 6.78858249e-02, 7.50656150e-01,\n",
              "        2.34908970e-02, 6.20662035e-01, 1.77102588e+00, 1.02662550e+00,\n",
              "        6.19215965e-01, 1.59114833e+00, 2.80895747e-01, 1.03130761e+00,\n",
              "        2.19995411e-01, 1.32794467e+00, 8.05409555e-02, 1.40694721e+00,\n",
              "        8.94031746e-01, 9.35579416e-01, 6.61506518e-02, 4.53773161e-01,\n",
              "        8.26416209e-03, 6.38602263e-01, 3.88380200e-03, 4.43185001e-02,\n",
              "        1.27767783e-01, 1.04021915e+00, 2.25945385e-01, 3.88220848e-01,\n",
              "        4.19784320e-01, 1.27745156e-01, 4.24487529e-01, 5.40806492e-01,\n",
              "        1.77085750e-01, 2.71181245e-01, 3.01734529e-01, 1.34670885e+00,\n",
              "        4.42751958e-01, 1.48068834e+00, 4.06004497e-01, 3.47135327e-01,\n",
              "        1.76923198e-03, 3.27818815e-01, 1.31177410e+00, 1.10551373e-01,\n",
              "        2.67484573e-02, 2.61094044e-01, 2.32923325e-01, 9.72990778e-01,\n",
              "        1.34858005e-02, 1.26379788e+00, 5.71130072e-01, 1.17288198e+00,\n",
              "        4.67646405e-01, 8.35532504e-01, 2.04393214e-01, 2.15057899e-01,\n",
              "        2.47045082e-01, 7.02834586e-01, 2.30455486e-01, 1.38680959e-01,\n",
              "        1.38764303e+00, 1.19304359e+00, 2.14467171e-01, 5.03433414e-01,\n",
              "        1.59993974e-01, 1.15408413e-01, 2.04992300e-01, 1.98079195e-01,\n",
              "        1.06970662e+00, 8.63840006e-01, 6.18287994e-01, 1.60131950e+00,\n",
              "        2.74560955e-01, 1.40540645e-01, 6.24407057e-02, 1.79090437e-01,\n",
              "        7.84811592e-02, 4.83579372e-02, 4.61824112e-01, 2.26425746e-01,\n",
              "        4.15711009e-01, 1.06185715e-01, 5.64905771e-01, 1.21357825e-01,\n",
              "        1.62881409e-01, 6.76933764e-01, 4.10192519e-01, 2.03861136e-01,\n",
              "        3.91523671e-01, 5.92060094e-01, 1.21596049e+00, 4.34600069e-01,\n",
              "        1.32429834e-01, 6.86585684e-01, 7.52018988e-01, 1.11822660e-01,\n",
              "        8.58996818e-01, 3.12683386e-01, 7.56533834e-01, 1.35562103e-01,\n",
              "        2.02168075e-01, 1.53627555e+00, 5.36201983e-01, 7.41133607e-01,\n",
              "        5.82976315e-01, 1.14269112e-01, 3.18089321e-01, 8.27646360e-01,\n",
              "        5.62019093e-01, 3.02306335e-03, 4.57330473e-02, 2.12931917e-01,\n",
              "        1.44447624e+00, 3.37840779e-01, 1.57476118e-01, 2.23474692e-01,\n",
              "        1.18274393e-01, 2.73399191e-01, 1.22972929e-01, 9.34598436e-01,\n",
              "        3.04651790e-01, 1.64114565e-01, 1.35072339e+00, 1.88694980e-01,\n",
              "        1.20239010e+00, 2.21944298e-02, 6.13987722e-01, 3.30716748e-01,\n",
              "        2.93692328e-01, 1.84997300e-02, 2.07669523e-02, 2.02297956e-01,\n",
              "        1.46986069e+00, 4.80722477e-01, 2.30125543e-01, 4.73345382e-01,\n",
              "        1.15418747e-01, 9.02015648e-02, 2.24565309e-01, 9.95178447e-01,\n",
              "        3.56064834e-01, 1.76129153e-01, 1.50038874e+00, 8.46317622e-01,\n",
              "        1.95022759e-01, 1.78953285e+00, 2.18509243e+00, 2.62682179e-01,\n",
              "        5.33445054e-01, 2.60146144e-01, 1.48763929e-01, 4.31345586e-02,\n",
              "        1.52997940e-01, 1.58369999e-01, 2.54279996e-01, 1.02213668e-01,\n",
              "        1.53758695e+00, 5.42827594e-02, 4.90692748e-01, 2.91427074e-01,\n",
              "        2.75405624e-01, 2.32601014e-01, 1.01367019e+00, 1.64583380e-01,\n",
              "        1.03953980e-02, 1.25110993e+00, 9.99319048e-01, 1.62105115e-01,\n",
              "        3.70630712e-01, 5.77549216e-02, 4.90418992e-02, 9.08434368e-01,\n",
              "        2.64041606e-01, 5.41935548e-01, 1.43411439e+00, 1.40605257e-01,\n",
              "        6.62359456e-03, 1.22223796e-02, 6.17879147e-01, 1.29215504e+00,\n",
              "        3.14926848e-01, 2.35089141e-01, 3.91383259e-01, 9.79202879e-01,\n",
              "        5.27997532e-01, 1.32621134e-01, 7.44895429e-01, 7.22895240e-02,\n",
              "        9.04972014e-02, 4.74254974e-01, 1.36418672e-01, 6.10014759e-01,\n",
              "        2.15021232e-01, 1.62466309e-01, 3.41465969e+00, 2.07319985e-02,\n",
              "        5.18978570e-01, 1.97341561e-02, 7.13996407e-01, 1.30740799e-01,\n",
              "        4.70629675e-02, 5.22701255e-01, 6.59507083e-01, 5.66749893e-01,\n",
              "        2.66481480e-02, 1.74287452e-01, 2.99908886e-01, 1.69209368e-01,\n",
              "        8.31718633e-01, 7.02723098e-02, 4.73606159e-01, 2.22046148e+00,\n",
              "        1.16424148e+00, 1.25615327e-01, 4.09454833e-05, 1.97117261e+00,\n",
              "        1.07156561e+00, 1.25957806e+00, 2.68502287e-01, 6.82492439e-01,\n",
              "        1.19656474e-01, 2.49040320e-01, 9.53746976e-01, 6.82606285e-02,\n",
              "        1.12152344e+00, 3.43093700e-01, 2.77646272e-01, 1.82386960e-01,\n",
              "        1.24354723e+00, 3.64515134e-01, 8.14887581e-01, 9.74739510e-01,\n",
              "        1.27798024e+00, 1.80758132e-01, 2.07614450e-01, 4.52025320e-01,\n",
              "        2.91092911e-01, 1.35035758e+00, 2.53386965e-01, 3.24831293e-01,\n",
              "        4.80103139e-01, 2.59378065e-01, 2.44499059e+00, 5.20424895e-02,\n",
              "        1.24617571e-01, 1.94787364e-01, 7.99217521e-02, 1.67190676e-01,\n",
              "        7.55351558e-01, 3.70006200e-01, 1.72717251e-02, 2.02629196e+00,\n",
              "        4.78564798e-01, 3.03739127e-02, 5.41126574e-01, 2.37704603e-01,\n",
              "        7.29022267e-02, 4.14672025e-01, 6.49288193e-01, 5.56041209e-01,\n",
              "        1.42185881e-01, 3.72079438e-01, 3.85731089e-01, 6.30806898e-01,\n",
              "        2.23039928e-01, 7.99082335e-01, 4.94325682e-01, 1.95427968e-02,\n",
              "        3.95356876e-01, 9.89932403e-01, 4.19172221e-01, 9.66881775e-02,\n",
              "        3.57059143e-01, 7.07235483e-01, 5.83260107e-02, 8.49405343e-01,\n",
              "        9.16500024e-02, 3.81866902e-01, 2.43671329e-01, 1.42924389e-01,\n",
              "        5.21256611e-01, 1.90545622e-02, 7.13653618e-01, 3.74267199e-01,\n",
              "        1.04281517e+00, 3.67733398e-01, 1.78307749e-02, 7.75094268e-02,\n",
              "        7.93849435e-01, 3.38613342e-01, 2.91589990e-01, 1.91681667e-01,\n",
              "        1.67421222e-01, 1.68902829e+00, 2.83670943e-01, 1.07709562e+00,\n",
              "        5.22293814e-01, 9.77472179e-01, 9.56792546e-01, 1.56534123e+00,\n",
              "        5.98568505e-01, 8.18396681e-01, 6.60492872e-01, 4.64721974e-01,\n",
              "        6.31780261e-01, 6.28951297e-01, 2.08840298e-02, 3.62949699e-01,\n",
              "        7.86676827e-01, 1.39171038e-01, 3.12882590e-01, 2.85452129e-01,\n",
              "        2.57740864e-01, 6.49629659e-02, 3.72969790e-01, 2.95519503e-01,\n",
              "        5.44419240e-01, 3.98602116e-01, 1.39646740e-02, 1.62192359e-02,\n",
              "        6.04257889e-01, 6.14783990e-01, 1.60867766e+00, 1.04658642e+00,\n",
              "        3.15611976e-01, 4.91624772e-01, 3.05490344e-01, 1.26122869e-01,\n",
              "        2.36345216e-01, 5.48428348e-02, 5.49096867e-01, 1.06615264e-01,\n",
              "        3.22624219e-01, 1.71228321e+00, 1.60906182e-02, 8.22781194e-02,\n",
              "        1.77323632e-01, 1.42199480e+00, 1.19757939e+00, 8.83690909e-02,\n",
              "        1.98476709e+00, 6.94644470e-01, 3.88239486e-01, 1.34194386e+00,\n",
              "        1.06266795e+00, 2.48228419e-01, 5.34055891e-01, 5.21189441e-01,\n",
              "        1.97981339e-01, 9.88537628e-02, 3.14438608e-01, 1.52774392e-01,\n",
              "        2.19302969e-01, 1.54112427e+00, 3.09147765e-01, 5.77419073e-01,\n",
              "        2.04909708e-01, 2.74366001e+00, 5.37595763e-01, 1.09083892e-01,\n",
              "        5.16723847e-02, 1.43393848e+00, 1.44819541e+00, 4.85542938e-01,\n",
              "        8.56875560e-03, 1.27791331e-01, 8.07921149e-01, 1.04156348e+00,\n",
              "        3.02558824e-01, 2.27475244e-01, 1.60257623e-01, 6.21983428e-02,\n",
              "        6.15046358e-02, 1.52459499e+00, 8.26763125e-01, 9.00296751e-02,\n",
              "        1.15997587e-01, 5.32905419e-01, 7.23370957e-01, 8.31194831e-01,\n",
              "        8.91673722e-02, 2.07160844e+00, 1.29257185e-01, 4.45086681e-01,\n",
              "        4.42899866e-01, 1.71113726e+00, 5.35986313e-01, 4.39623051e-01,\n",
              "        3.65707656e-01, 7.23356770e-01, 5.60556592e-02, 1.04704613e-03,\n",
              "        1.52339562e+00, 3.45233068e-01, 1.98998069e-01, 2.29475080e-01,\n",
              "        8.14420766e-01, 2.40933025e-01, 7.35205890e-01, 2.90321920e-01,\n",
              "        9.29197976e-01, 3.96320401e-02, 3.28049343e-01, 3.14475962e-01,\n",
              "        1.53485442e-01, 1.43777379e+00, 1.17708899e+00, 2.93130586e-01,\n",
              "        5.11047459e-02, 1.15829319e-01, 1.58378224e-01, 3.31037261e-01,\n",
              "        2.06529770e-01, 7.43911270e-01, 3.23157187e-01, 1.02153747e+00,\n",
              "        2.73416748e+00, 1.24125530e-01, 4.72951666e-01, 9.40302917e-01,\n",
              "        1.45236691e+00, 1.71306021e-01, 6.49220034e-01, 7.56501614e-03,\n",
              "        1.05657130e+00, 3.30370760e-02, 6.60994306e-01, 2.61164084e+00,\n",
              "        3.47764789e-01, 1.17439819e-01, 4.51494278e-01, 4.89282549e-01,\n",
              "        5.51419711e-01, 9.47406084e-02, 1.14489709e+00, 4.85098149e-01,\n",
              "        2.22731609e-02, 5.76071513e-01, 1.09130275e-01, 1.38607479e-02,\n",
              "        4.00314166e-01, 8.39162641e-01, 9.82846288e-01, 5.46401636e-02,\n",
              "        5.43899659e-01, 6.19066892e-01, 1.74436298e-01, 1.77654528e+00,\n",
              "        1.63341384e-01, 3.62757709e-02, 3.66235525e-01, 5.92599873e-01,\n",
              "        1.40293509e-01, 2.06684785e-01, 4.14630075e-01, 1.08876171e+00,\n",
              "        6.87827393e-01, 1.17602980e-01, 1.45027156e-01, 3.71043402e-01,\n",
              "        7.32579387e-01, 4.82165423e-01, 3.47899613e-01, 4.54564891e-01,\n",
              "        7.05416552e-01, 3.85100290e-01, 1.14018066e+00, 1.46936879e+00,\n",
              "        1.23464171e+00, 7.02266520e-01, 1.41394368e-01, 2.43287242e-01,\n",
              "        1.64252000e-01, 5.35975794e-01, 1.95945052e-01, 7.02008451e-01,\n",
              "        6.02421971e-02, 7.46638680e-01, 4.40826278e-01, 9.02084132e-01,\n",
              "        2.81828166e-01, 4.90367233e-01, 4.04180408e-01, 1.85804859e+00,\n",
              "        7.04217618e-01, 3.93523752e-01, 9.55996784e-02, 1.17229878e+00,\n",
              "        1.15233767e-01, 5.24972861e-01, 1.37813611e+00, 1.26530596e-01,\n",
              "        1.28042313e-01, 9.54660087e-01, 8.79128574e-01, 2.16703449e-01,\n",
              "        1.54007897e-01, 6.81324038e-02, 2.20876901e+00, 9.01945685e-01,\n",
              "        1.14825979e+00, 3.60443525e-01, 6.07363853e-02, 2.70065678e-02,\n",
              "        2.00673377e-01, 1.26493381e+00, 1.47425105e+00, 9.19941105e-01,\n",
              "        8.63910869e-02, 2.72297360e-01, 1.41342568e-01, 1.14926615e-01,\n",
              "        5.77314968e-01, 3.32874645e-01, 1.96454369e-01, 5.27994178e-02,\n",
              "        3.93468966e-01, 2.13108335e-01, 2.48047170e-01, 1.85900630e-01,\n",
              "        2.44854418e-01, 4.05807258e-01, 7.12239124e-03, 9.40777525e-01,\n",
              "        1.27500978e+00, 3.99842740e-01, 1.56001807e-01, 2.31468022e+00,\n",
              "        2.41600389e-01, 5.91522324e-01, 5.85514960e-01, 2.84853700e-01,\n",
              "        1.11045901e-01, 1.69929104e+00, 3.29047893e-02, 3.31939247e-01,\n",
              "        1.24699303e-01, 1.74051701e-01, 8.81665669e-01, 2.28852238e-01,\n",
              "        4.35138357e-02, 1.09270209e-01, 9.84391818e-01, 1.88675810e+00,\n",
              "        1.55975197e-01, 5.62594656e-01, 4.23428585e-02, 6.42710012e-01,\n",
              "        2.69301100e-01, 1.25149408e+00, 1.86646248e-01, 1.41908227e+00,\n",
              "        3.49831609e-01, 2.14540586e-01, 5.20671367e-01, 1.43671867e-01,\n",
              "        1.30528897e-01, 1.09293502e-01, 1.60818403e+00, 3.39537064e-01,\n",
              "        6.96387584e-01, 3.21219316e-01, 4.42808218e-01, 4.38702082e-01,\n",
              "        1.95317725e+00, 5.51962876e-01, 1.37066782e-01, 7.65716357e-03,\n",
              "        1.23386610e-01, 3.03961706e-01, 2.49959605e-01, 8.36525070e-01,\n",
              "        7.69855084e-01, 4.66588654e-02, 1.51838886e+00, 3.74812924e-01,\n",
              "        4.53670405e-01, 2.59644646e-01, 5.24198650e-01, 1.02523778e+00,\n",
              "        5.60330748e-01, 1.75492405e+00, 6.03860325e-01, 8.62202031e-01,\n",
              "        2.30426942e-02, 5.58436779e-01, 5.31747073e-01, 5.36512283e-02,\n",
              "        9.23807883e-01, 4.76182326e-01, 5.17522808e-02, 4.51276660e-01,\n",
              "        3.25442326e-01, 1.32825651e-01, 9.97692556e-03, 2.27512018e-01,\n",
              "        4.83596101e-01, 1.99701112e-01, 1.83546406e-01, 6.95394709e-01,\n",
              "        7.10701039e-01, 6.34283815e-01, 5.33373306e-02, 3.63006659e-01,\n",
              "        4.07994991e-01, 6.82862733e-01, 1.16743908e+00, 2.30255506e-01,\n",
              "        2.79888439e-01, 6.59818092e-01, 5.43297027e-01, 4.08075549e-01,\n",
              "        2.15498879e-01, 1.08675397e-01, 1.01552444e-01, 4.25520297e-02,\n",
              "        4.23438666e-02, 9.34746649e-01, 2.41988603e-01, 3.13312732e-02,\n",
              "        1.13373289e+00, 1.26331545e-01, 1.56072383e-01, 1.08144697e-01,\n",
              "        1.71327390e+00, 5.96959631e-02, 6.40360770e-01, 1.34477674e+00,\n",
              "        5.51312106e-01, 9.78529163e-01, 1.38830956e-01, 5.60318499e-01,\n",
              "        6.03440749e-01, 3.06551479e-01, 1.02221337e+00, 5.92716369e-01,\n",
              "        1.12631586e+00, 6.99597313e-01, 3.67287201e-01, 3.45263524e-01,\n",
              "        3.02318788e-01, 1.09422966e-02, 3.83011003e-01, 2.74933312e-01,\n",
              "        8.57107471e-02, 6.33883845e-02, 2.98329646e-01, 2.03657147e-02,\n",
              "        2.15550044e+00, 2.37504814e-01, 2.40721762e-01, 2.62397886e-02,\n",
              "        2.78148941e-01, 7.93535674e-03, 1.52778707e-02, 2.07075788e-01,\n",
              "        8.60098006e-01, 3.07002667e-01, 7.47590119e-03, 8.90970622e-02,\n",
              "        6.73388234e-01, 6.70266269e-01, 7.02275821e-01, 2.16677245e-01,\n",
              "        2.17146031e-01, 8.09935239e-01, 2.53863453e-01, 6.49491690e-01,\n",
              "        4.35088990e-01, 2.26547046e-01, 4.16943480e-02, 6.17200275e-02,\n",
              "        1.10163567e+00, 3.01050777e-01, 2.55837629e+00, 2.26197349e-01,\n",
              "        1.43810574e-01, 2.15806492e-01, 2.10101157e-01, 5.07167830e-01,\n",
              "        6.40969098e-03, 7.20414636e-01, 2.69282261e-01, 2.83027532e-01,\n",
              "        3.28036515e-01, 2.98203057e-01, 3.44050864e-01, 2.12250812e-01,\n",
              "        3.01969734e-01, 2.59304027e-01, 3.65157428e-01, 4.88112050e-01,\n",
              "        1.37903502e-01, 3.55082736e-01, 4.51467557e-01, 8.54679048e-03,\n",
              "        3.67499163e-01, 1.36753669e-01, 2.59209312e-01, 8.75875771e-01,\n",
              "        1.97437390e-01, 3.30066037e-01, 1.25261799e-02, 1.84627498e-01,\n",
              "        5.10438403e-01, 1.89286318e-01, 1.15208410e-01, 1.71707114e-01,\n",
              "        1.54368597e+00, 4.54011799e-02, 3.11211816e-01, 3.00804073e-02,\n",
              "        3.86808084e-01, 7.89329663e-02, 5.02676840e-01, 1.53532668e-01,\n",
              "        5.87070109e-01, 2.13200925e-01, 2.08860049e-03, 1.74704069e-01])]"
            ]
          },
          "execution_count": 7,
          "metadata": {},
          "output_type": "execute_result"
        }
      ],
      "source": [
        "np.random.seed(123)\n",
        "n = 1000\n",
        "U = np.random.uniform(0, 1, n)\n",
        "lambda_ = 2\n",
        "\n",
        "numerical_inverse_f(U, lambda_)\n"
      ]
    },
    {
      "cell_type": "code",
      "execution_count": null,
      "id": "0687dc39",
      "metadata": {
        "id": "0687dc39",
        "outputId": "3fc9aa36-cde0-4d6b-b802-5889026ba633"
      },
      "outputs": [
        {
          "name": "stdout",
          "output_type": "stream",
          "text": [
            "[5.96136072e-01 1.68533741e-01 1.28642040e-01 4.00716841e-01\n",
            " 6.35535468e-01 2.75048768e-01 1.97549103e+00 5.77321137e-01\n",
            " 3.27860097e-01 2.48886851e-01 2.10171125e-01 6.52909949e-01\n",
            " 2.88636088e-01 3.07663996e-02 2.53785675e-01 6.69696620e-01\n",
            " 1.00747130e-01 9.64598129e-02 3.79164420e-01 3.79459324e-01\n",
            " 5.03109031e-01 9.46669551e-01 6.44502752e-01 4.72118188e-01\n",
            " 6.40865170e-01 1.95011660e-01 2.24542895e-01 1.29555880e-01\n",
            " 1.73867545e-01 4.98446966e-01 4.83132398e-02 2.84316688e-01\n",
            " 2.81816842e-01 3.40298233e-01 2.77415132e-01 1.87173099e-01\n",
            " 2.77869052e-01 1.11928506e+00 1.44263257e+00 3.48413648e-01\n",
            " 4.89020508e-01 6.14333149e-02 1.90839244e-01 2.67923201e-01\n",
            " 1.00611265e+00 1.44144705e-01 3.29889341e-01 2.11886915e+00\n",
            " 3.66448541e-01 4.74529040e-01 6.42740100e-02 8.75330262e-01\n",
            " 4.61985233e-01 3.93803668e-01 2.09855932e-01 1.81289591e-01\n",
            " 2.69803096e-01 5.71753730e-01 1.04155149e+00 3.57106086e-01\n",
            " 5.53292669e-01 4.40868031e-01 4.90285979e-01 5.61486894e-01\n",
            " 9.23664962e-01 4.34302333e-02 7.21290242e-01 1.39636348e-01\n",
            " 1.07974100e-01 4.24850156e-01 5.03039783e-02 1.08283458e+00\n",
            " 4.93422284e-01 6.42621001e-01 8.13034908e-03 4.51233214e-01\n",
            " 4.06850367e-01 8.65578173e-02 8.30689203e-02 5.94590586e-01\n",
            " 1.91925023e-01 5.88779529e-01 4.04148000e-01 2.46288715e-01\n",
            " 1.29601763e+00 9.21536898e-01 2.21114523e-01 2.22850590e-02\n",
            " 1.81754891e-01 2.53903161e-01 6.10320187e-01 2.68635691e+00\n",
            " 2.19962183e-01 7.18894498e-01 4.49688436e-01 5.88343889e-01\n",
            " 8.19231122e-02 2.54477265e-01 1.37781831e-01 2.10382793e-01\n",
            " 3.59877170e-01 5.49242974e-01 5.59735717e-02 7.01456379e-02\n",
            " 1.94289694e-01 5.41710634e-01 9.37047634e-01 4.02886283e-01\n",
            " 9.63626350e-01 2.42934662e-01 1.90474961e-01 2.18682787e-01\n",
            " 9.38169185e-02 8.83375310e-01 2.06751800e-01 4.01894224e-01\n",
            " 4.32028808e-01 3.68584080e-01 1.34584195e-03 2.22602799e+00\n",
            " 1.17874020e+00 1.16367111e-01 1.73001343e-01 3.66995164e-01\n",
            " 1.16094192e+00 2.05617947e+00 1.48894531e-01 4.15468434e-01\n",
            " 8.22451422e-01 2.50743065e-01 6.56657722e-01 8.78134169e-02\n",
            " 4.59019339e-01 1.00445224e+00 2.05285270e+00 4.13462441e-02\n",
            " 2.79611798e-01 1.14419155e-01 2.99497463e-01 3.96775083e-01\n",
            " 4.89865518e-02 1.76100182e-01 1.31266566e+00 4.20827923e-01\n",
            " 3.05702495e-01 7.00249365e-01 6.77130771e-01 2.48993285e-02\n",
            " 6.16696337e-01 9.13931767e-01 9.07237000e-02 7.59337067e-01\n",
            " 1.68812082e-01 1.82980213e-01 5.47202773e-01 5.90496394e-02\n",
            " 5.46622035e-01 1.09398929e+00 5.95876005e-01 2.90202080e-01\n",
            " 2.88317484e-01 7.24289382e-01 4.16943101e-01 4.43632398e-02\n",
            " 4.36940305e-01 8.43277481e-01 2.05540210e-01 1.31261277e+00\n",
            " 6.94583242e-01 4.26732884e-01 6.96446017e-01 4.12284969e-02\n",
            " 9.80879302e-01 8.61594861e-01 1.20326031e+00 6.88449838e-02\n",
            " 4.26591803e-02 7.44911138e-02 2.54895338e-01 2.76090253e-01\n",
            " 4.13017537e-01 6.51930576e-02 1.12447230e-01 8.34711669e-01\n",
            " 3.15544216e-01 8.24969067e-01 3.72704569e-03 4.01026683e-01\n",
            " 1.34362512e+00 4.36346847e-01 1.15396194e-01 6.32494435e-01\n",
            " 2.38200705e-01 5.51888723e-01 1.48790683e-02 5.05163855e-01\n",
            " 1.63638454e-02 6.82815964e-01 3.20194831e-01 6.49144736e-02\n",
            " 3.91137772e-01 3.45541765e-02 5.29741277e-01 2.77163953e+00\n",
            " 7.33529562e-01 4.26392912e-01 5.41464383e-02 6.01709937e-01\n",
            " 5.41125239e-01 2.51716785e-02 7.85828593e-01 3.65649487e-01\n",
            " 2.77447706e-01 7.76026144e-01 2.65147993e-01 3.27951012e-01\n",
            " 1.00219654e-01 1.93801961e-01 9.33887388e-01 1.03452893e-01\n",
            " 2.70033732e-01 2.25650099e+00 1.34986446e-01 1.24344831e+00\n",
            " 1.25294749e+00 4.78681235e-02 3.11486713e-01 3.48794852e-01\n",
            " 1.88197594e-01 2.42483607e-02 1.38328626e-01 5.02028729e-02\n",
            " 1.36068369e-01 8.24586203e-01 1.12679408e+00 2.20924109e-02\n",
            " 1.79730007e-01 1.97078252e+00 3.87726448e-01 4.92163497e-01\n",
            " 2.78042063e-03 3.31706278e-01 2.22530414e+00 2.35150259e-01\n",
            " 5.10374920e-02 3.09863573e-01 1.64847904e+00 2.09146477e-01\n",
            " 8.02033016e-01 8.01843071e-01 1.16753721e-01 2.92925202e-01\n",
            " 6.28689032e-01 2.64257061e-01 1.05982480e-01 1.71317001e+00\n",
            " 5.25984165e-01 1.00294631e+00 1.27832055e-02 1.55240546e-01\n",
            " 3.48648992e-01 3.49155230e-02 2.48330402e+00 1.34896452e-01\n",
            " 2.34435881e-01 1.20406823e-01 5.57149296e-02 1.32295231e-01\n",
            " 1.78773473e-01 5.03165529e-01 1.65110257e-01 2.24925442e-01\n",
            " 2.98028635e-03 2.27631702e-01 3.81662500e-01 8.83780387e-02\n",
            " 4.54947003e-01 1.73470146e-01 4.99904782e-01 1.32729246e-02\n",
            " 1.09281658e+00 8.12497429e-03 6.78858249e-02 7.50656150e-01\n",
            " 2.34908970e-02 6.20662035e-01 1.77102588e+00 1.02662550e+00\n",
            " 6.19215965e-01 1.59114833e+00 2.80895747e-01 1.03130761e+00\n",
            " 2.19995411e-01 1.32794467e+00 8.05409555e-02 1.40694721e+00\n",
            " 8.94031746e-01 9.35579416e-01 6.61506518e-02 4.53773161e-01\n",
            " 8.26416209e-03 6.38602263e-01 3.88380200e-03 4.43185001e-02\n",
            " 1.27767783e-01 1.04021915e+00 2.25945385e-01 3.88220848e-01\n",
            " 4.19784320e-01 1.27745156e-01 4.24487529e-01 5.40806492e-01\n",
            " 1.77085750e-01 2.71181245e-01 3.01734529e-01 1.34670885e+00\n",
            " 4.42751958e-01 1.48068834e+00 4.06004497e-01 3.47135327e-01\n",
            " 1.76923198e-03 3.27818815e-01 1.31177410e+00 1.10551373e-01\n",
            " 2.67484573e-02 2.61094044e-01 2.32923325e-01 9.72990778e-01\n",
            " 1.34858005e-02 1.26379788e+00 5.71130072e-01 1.17288198e+00\n",
            " 4.67646405e-01 8.35532504e-01 2.04393214e-01 2.15057899e-01\n",
            " 2.47045082e-01 7.02834586e-01 2.30455486e-01 1.38680959e-01\n",
            " 1.38764303e+00 1.19304359e+00 2.14467171e-01 5.03433414e-01\n",
            " 1.59993974e-01 1.15408413e-01 2.04992300e-01 1.98079195e-01\n",
            " 1.06970662e+00 8.63840006e-01 6.18287994e-01 1.60131950e+00\n",
            " 2.74560955e-01 1.40540645e-01 6.24407057e-02 1.79090437e-01\n",
            " 7.84811592e-02 4.83579372e-02 4.61824112e-01 2.26425746e-01\n",
            " 4.15711009e-01 1.06185715e-01 5.64905771e-01 1.21357825e-01\n",
            " 1.62881409e-01 6.76933764e-01 4.10192519e-01 2.03861136e-01\n",
            " 3.91523671e-01 5.92060094e-01 1.21596049e+00 4.34600069e-01\n",
            " 1.32429834e-01 6.86585684e-01 7.52018988e-01 1.11822660e-01\n",
            " 8.58996818e-01 3.12683386e-01 7.56533834e-01 1.35562103e-01\n",
            " 2.02168075e-01 1.53627555e+00 5.36201983e-01 7.41133607e-01\n",
            " 5.82976315e-01 1.14269112e-01 3.18089321e-01 8.27646360e-01\n",
            " 5.62019093e-01 3.02306335e-03 4.57330473e-02 2.12931917e-01\n",
            " 1.44447624e+00 3.37840779e-01 1.57476118e-01 2.23474692e-01\n",
            " 1.18274393e-01 2.73399191e-01 1.22972929e-01 9.34598436e-01\n",
            " 3.04651790e-01 1.64114565e-01 1.35072339e+00 1.88694980e-01\n",
            " 1.20239010e+00 2.21944298e-02 6.13987722e-01 3.30716748e-01\n",
            " 2.93692328e-01 1.84997300e-02 2.07669523e-02 2.02297956e-01\n",
            " 1.46986069e+00 4.80722477e-01 2.30125543e-01 4.73345382e-01\n",
            " 1.15418747e-01 9.02015648e-02 2.24565309e-01 9.95178447e-01\n",
            " 3.56064834e-01 1.76129153e-01 1.50038874e+00 8.46317622e-01\n",
            " 1.95022759e-01 1.78953285e+00 2.18509243e+00 2.62682179e-01\n",
            " 5.33445054e-01 2.60146144e-01 1.48763929e-01 4.31345586e-02\n",
            " 1.52997940e-01 1.58369999e-01 2.54279996e-01 1.02213668e-01\n",
            " 1.53758695e+00 5.42827594e-02 4.90692748e-01 2.91427074e-01\n",
            " 2.75405624e-01 2.32601014e-01 1.01367019e+00 1.64583380e-01\n",
            " 1.03953980e-02 1.25110993e+00 9.99319048e-01 1.62105115e-01\n",
            " 3.70630712e-01 5.77549216e-02 4.90418992e-02 9.08434368e-01\n",
            " 2.64041606e-01 5.41935548e-01 1.43411439e+00 1.40605257e-01\n",
            " 6.62359456e-03 1.22223796e-02 6.17879147e-01 1.29215504e+00\n",
            " 3.14926848e-01 2.35089141e-01 3.91383259e-01 9.79202879e-01\n",
            " 5.27997532e-01 1.32621134e-01 7.44895429e-01 7.22895240e-02\n",
            " 9.04972014e-02 4.74254974e-01 1.36418672e-01 6.10014759e-01\n",
            " 2.15021232e-01 1.62466309e-01 3.41465969e+00 2.07319985e-02\n",
            " 5.18978570e-01 1.97341561e-02 7.13996407e-01 1.30740799e-01\n",
            " 4.70629675e-02 5.22701255e-01 6.59507083e-01 5.66749893e-01\n",
            " 2.66481480e-02 1.74287452e-01 2.99908886e-01 1.69209368e-01\n",
            " 8.31718633e-01 7.02723098e-02 4.73606159e-01 2.22046148e+00\n",
            " 1.16424148e+00 1.25615327e-01 4.09454833e-05 1.97117261e+00\n",
            " 1.07156561e+00 1.25957806e+00 2.68502287e-01 6.82492439e-01\n",
            " 1.19656474e-01 2.49040320e-01 9.53746976e-01 6.82606285e-02\n",
            " 1.12152344e+00 3.43093700e-01 2.77646272e-01 1.82386960e-01\n",
            " 1.24354723e+00 3.64515134e-01 8.14887581e-01 9.74739510e-01\n",
            " 1.27798024e+00 1.80758132e-01 2.07614450e-01 4.52025320e-01\n",
            " 2.91092911e-01 1.35035758e+00 2.53386965e-01 3.24831293e-01\n",
            " 4.80103139e-01 2.59378065e-01 2.44499059e+00 5.20424895e-02\n",
            " 1.24617571e-01 1.94787364e-01 7.99217521e-02 1.67190676e-01\n",
            " 7.55351558e-01 3.70006200e-01 1.72717251e-02 2.02629196e+00\n",
            " 4.78564798e-01 3.03739127e-02 5.41126574e-01 2.37704603e-01\n",
            " 7.29022267e-02 4.14672025e-01 6.49288193e-01 5.56041209e-01\n",
            " 1.42185881e-01 3.72079438e-01 3.85731089e-01 6.30806898e-01\n",
            " 2.23039928e-01 7.99082335e-01 4.94325682e-01 1.95427968e-02\n",
            " 3.95356876e-01 9.89932403e-01 4.19172221e-01 9.66881775e-02\n",
            " 3.57059143e-01 7.07235483e-01 5.83260107e-02 8.49405343e-01\n",
            " 9.16500024e-02 3.81866902e-01 2.43671329e-01 1.42924389e-01\n",
            " 5.21256611e-01 1.90545622e-02 7.13653618e-01 3.74267199e-01\n",
            " 1.04281517e+00 3.67733398e-01 1.78307749e-02 7.75094268e-02\n",
            " 7.93849435e-01 3.38613342e-01 2.91589990e-01 1.91681667e-01\n",
            " 1.67421222e-01 1.68902829e+00 2.83670943e-01 1.07709562e+00\n",
            " 5.22293814e-01 9.77472179e-01 9.56792546e-01 1.56534123e+00\n",
            " 5.98568505e-01 8.18396681e-01 6.60492872e-01 4.64721974e-01\n",
            " 6.31780261e-01 6.28951297e-01 2.08840298e-02 3.62949699e-01\n",
            " 7.86676827e-01 1.39171038e-01 3.12882590e-01 2.85452129e-01\n",
            " 2.57740864e-01 6.49629659e-02 3.72969790e-01 2.95519503e-01\n",
            " 5.44419240e-01 3.98602116e-01 1.39646740e-02 1.62192359e-02\n",
            " 6.04257889e-01 6.14783990e-01 1.60867766e+00 1.04658642e+00\n",
            " 3.15611976e-01 4.91624772e-01 3.05490344e-01 1.26122869e-01\n",
            " 2.36345216e-01 5.48428348e-02 5.49096867e-01 1.06615264e-01\n",
            " 3.22624219e-01 1.71228321e+00 1.60906182e-02 8.22781194e-02\n",
            " 1.77323632e-01 1.42199480e+00 1.19757939e+00 8.83690909e-02\n",
            " 1.98476709e+00 6.94644470e-01 3.88239486e-01 1.34194386e+00\n",
            " 1.06266795e+00 2.48228419e-01 5.34055891e-01 5.21189441e-01\n",
            " 1.97981339e-01 9.88537628e-02 3.14438608e-01 1.52774392e-01\n",
            " 2.19302969e-01 1.54112427e+00 3.09147765e-01 5.77419073e-01\n",
            " 2.04909708e-01 2.74366001e+00 5.37595763e-01 1.09083892e-01\n",
            " 5.16723847e-02 1.43393848e+00 1.44819541e+00 4.85542938e-01\n",
            " 8.56875560e-03 1.27791331e-01 8.07921149e-01 1.04156348e+00\n",
            " 3.02558824e-01 2.27475244e-01 1.60257623e-01 6.21983428e-02\n",
            " 6.15046358e-02 1.52459499e+00 8.26763125e-01 9.00296751e-02\n",
            " 1.15997587e-01 5.32905419e-01 7.23370957e-01 8.31194831e-01\n",
            " 8.91673722e-02 2.07160844e+00 1.29257185e-01 4.45086681e-01\n",
            " 4.42899866e-01 1.71113726e+00 5.35986313e-01 4.39623051e-01\n",
            " 3.65707656e-01 7.23356770e-01 5.60556592e-02 1.04704613e-03\n",
            " 1.52339562e+00 3.45233068e-01 1.98998069e-01 2.29475080e-01\n",
            " 8.14420766e-01 2.40933025e-01 7.35205890e-01 2.90321920e-01\n",
            " 9.29197976e-01 3.96320401e-02 3.28049343e-01 3.14475962e-01\n",
            " 1.53485442e-01 1.43777379e+00 1.17708899e+00 2.93130586e-01\n",
            " 5.11047459e-02 1.15829319e-01 1.58378224e-01 3.31037261e-01\n",
            " 2.06529770e-01 7.43911270e-01 3.23157187e-01 1.02153747e+00\n",
            " 2.73416748e+00 1.24125530e-01 4.72951666e-01 9.40302917e-01\n",
            " 1.45236691e+00 1.71306021e-01 6.49220034e-01 7.56501614e-03\n",
            " 1.05657130e+00 3.30370760e-02 6.60994306e-01 2.61164084e+00\n",
            " 3.47764789e-01 1.17439819e-01 4.51494278e-01 4.89282549e-01\n",
            " 5.51419711e-01 9.47406084e-02 1.14489709e+00 4.85098149e-01\n",
            " 2.22731609e-02 5.76071513e-01 1.09130275e-01 1.38607479e-02\n",
            " 4.00314166e-01 8.39162641e-01 9.82846288e-01 5.46401636e-02\n",
            " 5.43899659e-01 6.19066892e-01 1.74436298e-01 1.77654528e+00\n",
            " 1.63341384e-01 3.62757709e-02 3.66235525e-01 5.92599873e-01\n",
            " 1.40293509e-01 2.06684785e-01 4.14630075e-01 1.08876171e+00\n",
            " 6.87827393e-01 1.17602980e-01 1.45027156e-01 3.71043402e-01\n",
            " 7.32579387e-01 4.82165423e-01 3.47899613e-01 4.54564891e-01\n",
            " 7.05416552e-01 3.85100290e-01 1.14018066e+00 1.46936879e+00\n",
            " 1.23464171e+00 7.02266520e-01 1.41394368e-01 2.43287242e-01\n",
            " 1.64252000e-01 5.35975794e-01 1.95945052e-01 7.02008451e-01\n",
            " 6.02421971e-02 7.46638680e-01 4.40826278e-01 9.02084132e-01\n",
            " 2.81828166e-01 4.90367233e-01 4.04180408e-01 1.85804859e+00\n",
            " 7.04217618e-01 3.93523752e-01 9.55996784e-02 1.17229878e+00\n",
            " 1.15233767e-01 5.24972861e-01 1.37813611e+00 1.26530596e-01\n",
            " 1.28042313e-01 9.54660087e-01 8.79128574e-01 2.16703449e-01\n",
            " 1.54007897e-01 6.81324038e-02 2.20876901e+00 9.01945685e-01\n",
            " 1.14825979e+00 3.60443525e-01 6.07363853e-02 2.70065678e-02\n",
            " 2.00673377e-01 1.26493381e+00 1.47425105e+00 9.19941105e-01\n",
            " 8.63910869e-02 2.72297360e-01 1.41342568e-01 1.14926615e-01\n",
            " 5.77314968e-01 3.32874645e-01 1.96454369e-01 5.27994178e-02\n",
            " 3.93468966e-01 2.13108335e-01 2.48047170e-01 1.85900630e-01\n",
            " 2.44854418e-01 4.05807258e-01 7.12239124e-03 9.40777525e-01\n",
            " 1.27500978e+00 3.99842740e-01 1.56001807e-01 2.31468022e+00\n",
            " 2.41600389e-01 5.91522324e-01 5.85514960e-01 2.84853700e-01\n",
            " 1.11045901e-01 1.69929104e+00 3.29047893e-02 3.31939247e-01\n",
            " 1.24699303e-01 1.74051701e-01 8.81665669e-01 2.28852238e-01\n",
            " 4.35138357e-02 1.09270209e-01 9.84391818e-01 1.88675810e+00\n",
            " 1.55975197e-01 5.62594656e-01 4.23428585e-02 6.42710012e-01\n",
            " 2.69301100e-01 1.25149408e+00 1.86646248e-01 1.41908227e+00\n",
            " 3.49831609e-01 2.14540586e-01 5.20671367e-01 1.43671867e-01\n",
            " 1.30528897e-01 1.09293502e-01 1.60818403e+00 3.39537064e-01\n",
            " 6.96387584e-01 3.21219316e-01 4.42808218e-01 4.38702082e-01\n",
            " 1.95317725e+00 5.51962876e-01 1.37066782e-01 7.65716357e-03\n",
            " 1.23386610e-01 3.03961706e-01 2.49959605e-01 8.36525070e-01\n",
            " 7.69855084e-01 4.66588654e-02 1.51838886e+00 3.74812924e-01\n",
            " 4.53670405e-01 2.59644646e-01 5.24198650e-01 1.02523778e+00\n",
            " 5.60330748e-01 1.75492405e+00 6.03860325e-01 8.62202031e-01\n",
            " 2.30426942e-02 5.58436779e-01 5.31747073e-01 5.36512283e-02\n",
            " 9.23807883e-01 4.76182326e-01 5.17522808e-02 4.51276660e-01\n",
            " 3.25442326e-01 1.32825651e-01 9.97692556e-03 2.27512018e-01\n",
            " 4.83596101e-01 1.99701112e-01 1.83546406e-01 6.95394709e-01\n",
            " 7.10701039e-01 6.34283815e-01 5.33373306e-02 3.63006659e-01\n",
            " 4.07994991e-01 6.82862733e-01 1.16743908e+00 2.30255506e-01\n",
            " 2.79888439e-01 6.59818092e-01 5.43297027e-01 4.08075549e-01\n",
            " 2.15498879e-01 1.08675397e-01 1.01552444e-01 4.25520297e-02\n",
            " 4.23438666e-02 9.34746649e-01 2.41988603e-01 3.13312732e-02\n",
            " 1.13373289e+00 1.26331545e-01 1.56072383e-01 1.08144697e-01\n",
            " 1.71327390e+00 5.96959631e-02 6.40360770e-01 1.34477674e+00\n",
            " 5.51312106e-01 9.78529163e-01 1.38830956e-01 5.60318499e-01\n",
            " 6.03440749e-01 3.06551479e-01 1.02221337e+00 5.92716369e-01\n",
            " 1.12631586e+00 6.99597313e-01 3.67287201e-01 3.45263524e-01\n",
            " 3.02318788e-01 1.09422966e-02 3.83011003e-01 2.74933312e-01\n",
            " 8.57107471e-02 6.33883845e-02 2.98329646e-01 2.03657147e-02\n",
            " 2.15550044e+00 2.37504814e-01 2.40721762e-01 2.62397886e-02\n",
            " 2.78148941e-01 7.93535674e-03 1.52778707e-02 2.07075788e-01\n",
            " 8.60098006e-01 3.07002667e-01 7.47590119e-03 8.90970622e-02\n",
            " 6.73388234e-01 6.70266269e-01 7.02275821e-01 2.16677245e-01\n",
            " 2.17146031e-01 8.09935239e-01 2.53863453e-01 6.49491690e-01\n",
            " 4.35088990e-01 2.26547046e-01 4.16943480e-02 6.17200275e-02\n",
            " 1.10163567e+00 3.01050777e-01 2.55837629e+00 2.26197349e-01\n",
            " 1.43810574e-01 2.15806492e-01 2.10101157e-01 5.07167830e-01\n",
            " 6.40969098e-03 7.20414636e-01 2.69282261e-01 2.83027532e-01\n",
            " 3.28036515e-01 2.98203057e-01 3.44050864e-01 2.12250812e-01\n",
            " 3.01969734e-01 2.59304027e-01 3.65157428e-01 4.88112050e-01\n",
            " 1.37903502e-01 3.55082736e-01 4.51467557e-01 8.54679048e-03\n",
            " 3.67499163e-01 1.36753669e-01 2.59209312e-01 8.75875771e-01\n",
            " 1.97437390e-01 3.30066037e-01 1.25261799e-02 1.84627498e-01\n",
            " 5.10438403e-01 1.89286318e-01 1.15208410e-01 1.71707114e-01\n",
            " 1.54368597e+00 4.54011799e-02 3.11211816e-01 3.00804073e-02\n",
            " 3.86808084e-01 7.89329663e-02 5.02676840e-01 1.53532668e-01\n",
            " 5.87070109e-01 2.13200925e-01 2.08860049e-03 1.74704069e-01]\n"
          ]
        }
      ],
      "source": [
        "# autrement\n",
        "X = (-1/lambda_) * np.log(1 - U)\n",
        "\n",
        "print(X)"
      ]
    },
    {
      "cell_type": "markdown",
      "id": "532c5319",
      "metadata": {
        "id": "532c5319"
      },
      "source": [
        "\n",
        "2. Vérifier que la moyenne empirique de l'échantillon simulé est proche de la moyenne théorique de la loi exponentielle.\n"
      ]
    },
    {
      "cell_type": "code",
      "execution_count": null,
      "id": "1101fedc",
      "metadata": {
        "id": "1101fedc",
        "outputId": "35ec1210-a0ca-49d7-a130-39482b381464"
      },
      "outputs": [
        {
          "name": "stdout",
          "output_type": "stream",
          "text": [
            "0.49915298820686654\n"
          ]
        }
      ],
      "source": [
        "# Moyenne théorique de la loi Exponentielle est: 1/lambda = 1/2 = 0.5\n",
        "mean_X = np.mean(X)\n",
        "print(mean_X)\n"
      ]
    },
    {
      "cell_type": "markdown",
      "id": "1346b9e0",
      "metadata": {
        "id": "1346b9e0"
      },
      "source": [
        "3. Tracer l'histogramme de l'échantillon simulé pour visualiser sa distribution.\n"
      ]
    },
    {
      "cell_type": "code",
      "execution_count": null,
      "id": "7465d4cd",
      "metadata": {
        "id": "7465d4cd",
        "outputId": "b50e7943-4a66-4ae7-febd-4e02c242bd80"
      },
      "outputs": [
        {
          "data": {
            "image/png": "[encoded data removed]",
            "text/plain": [
              "<Figure size 640x480 with 1 Axes>"
            ]
          },
          "metadata": {},
          "output_type": "display_data"
        }
      ],
      "source": [
        "plt.hist(X, density=True, bins=30, color=\"lightblue\", edgecolor=\"black\", alpha=0.7)\n",
        "plt.title(\"Simulation de la loi exponentielle\")\n",
        "plt.xlabel(\"Valeurs de X\")\n",
        "plt.ylabel(\"Densité\")\n",
        "\n",
        "# Superposer la courbe de distribution exponentielle théorique\n",
        "x_values = np.linspace(0, max(X), 1000)\n",
        "plt.plot(x_values, lambda_ * np.exp(-lambda_ * x_values), color=\"red\", linewidth=2)\n",
        "\n",
        "\n",
        "plt.legend([\"Théorie (densité exponentielle)\", \"Simulation (histogramme)\"])\n",
        "plt.show()\n"
      ]
    },
    {
      "cell_type": "markdown",
      "id": "040b981e",
      "metadata": {
        "id": "040b981e"
      },
      "source": [
        "\n",
        "\n",
        "\n",
        "\n",
        "# Exercice 3:\n",
        "\n",
        "Supposons que le nombre de clients dans une file d'attente suit une distribution de Poisson avec un taux moyen de $3$ clients par minute. Simuler $100$ observations de cette distribution de probabilité.\n"
      ]
    },
    {
      "cell_type": "code",
      "execution_count": null,
      "id": "1e941746",
      "metadata": {
        "id": "1e941746",
        "outputId": "d5454dd3-a05a-4dd5-9537-a200386e45da"
      },
      "outputs": [
        {
          "name": "stdout",
          "output_type": "stream",
          "text": [
            "Help on built-in function poisson:\n",
            "\n",
            "poisson(...) method of numpy.random.mtrand.RandomState instance\n",
            "    poisson(lam=1.0, size=None)\n",
            "    \n",
            "    Draw samples from a Poisson distribution.\n",
            "    \n",
            "    The Poisson distribution is the limit of the binomial distribution\n",
            "    for large N.\n",
            "    \n",
            "    .. note::\n",
            "        New code should use the `~numpy.random.Generator.poisson`\n",
            "        method of a `~numpy.random.Generator` instance instead;\n",
            "        please see the :ref:`random-quick-start`.\n",
            "    \n",
            "    Parameters\n",
            "    ----------\n",
            "    lam : float or array_like of floats\n",
            "        Expected number of events occurring in a fixed-time interval,\n",
            "        must be >= 0. A sequence must be broadcastable over the requested\n",
            "        size.\n",
            "    size : int or tuple of ints, optional\n",
            "        Output shape.  If the given shape is, e.g., ``(m, n, k)``, then\n",
            "        ``m * n * k`` samples are drawn.  If size is ``None`` (default),\n",
            "        a single value is returned if ``lam`` is a scalar. Otherwise,\n",
            "        ``np.array(lam).size`` samples are drawn.\n",
            "    \n",
            "    Returns\n",
            "    -------\n",
            "    out : ndarray or scalar\n",
            "        Drawn samples from the parameterized Poisson distribution.\n",
            "    \n",
            "    See Also\n",
            "    --------\n",
            "    random.Generator.poisson: which should be used for new code.\n",
            "    \n",
            "    Notes\n",
            "    -----\n",
            "    The Poisson distribution\n",
            "    \n",
            "    .. math:: f(k; \\lambda)=\\frac{\\lambda^k e^{-\\lambda}}{k!}\n",
            "    \n",
            "    For events with an expected separation :math:`\\lambda` the Poisson\n",
            "    distribution :math:`f(k; \\lambda)` describes the probability of\n",
            "    :math:`k` events occurring within the observed\n",
            "    interval :math:`\\lambda`.\n",
            "    \n",
            "    Because the output is limited to the range of the C int64 type, a\n",
            "    ValueError is raised when `lam` is within 10 sigma of the maximum\n",
            "    representable value.\n",
            "    \n",
            "    References\n",
            "    ----------\n",
            "    .. [1] Weisstein, Eric W. \"Poisson Distribution.\"\n",
            "           From MathWorld--A Wolfram Web Resource.\n",
            "           http://mathworld.wolfram.com/PoissonDistribution.html\n",
            "    .. [2] Wikipedia, \"Poisson distribution\",\n",
            "           https://en.wikipedia.org/wiki/Poisson_distribution\n",
            "    \n",
            "    Examples\n",
            "    --------\n",
            "    Draw samples from the distribution:\n",
            "    \n",
            "    >>> import numpy as np\n",
            "    >>> s = np.random.poisson(5, 10000)\n",
            "    \n",
            "    Display histogram of the sample:\n",
            "    \n",
            "    >>> import matplotlib.pyplot as plt\n",
            "    >>> count, bins, ignored = plt.hist(s, 14, density=True)\n",
            "    >>> plt.show()\n",
            "    \n",
            "    Draw each 100 values for lambda 100 and 500:\n",
            "    \n",
            "    >>> s = np.random.poisson(lam=(100., 500.), size=(100, 2))\n",
            "\n"
          ]
        }
      ],
      "source": [
        "help(np.random.poisson)"
      ]
    },
    {
      "cell_type": "code",
      "execution_count": null,
      "id": "f7d4b9e2",
      "metadata": {
        "id": "f7d4b9e2",
        "outputId": "32651fb3-09c9-4040-ae53-96b4db9ddf9f"
      },
      "outputs": [
        {
          "name": "stdout",
          "output_type": "stream",
          "text": [
            "[2 6 3 3 6 2 2 3 5 1 3 3 4 6 2 2 2 2 3 4 3 4 3 2 2 1 5 3 3 4 5 5 2 2 5 4 2\n",
            " 6 1 6 4 2 2 3 4 2 1 2 1 4 2 5 2 3 3 2 1 3 4 3 5 3 3 2 3 1 3 0 2 3 1 2 9 4\n",
            " 0 1 1 4 3 6 3 3 6 3 5 6 1 1 2 3 3 4 4 4 4 1 1 3 2 4]\n"
          ]
        },
        {
          "data": {
            "text/plain": [
              "(array([0, 1, 2, 3, 4, 5, 6, 9]),\n",
              " array([ 2, 14, 24, 27, 16,  8,  8,  1], dtype=int64))"
            ]
          },
          "execution_count": 12,
          "metadata": {},
          "output_type": "execute_result"
        }
      ],
      "source": [
        "np.random.seed(123)\n",
        "n = 100\n",
        "lambda_ = 3  # taux moyen 3 clients par minute\n",
        "X = np.random.poisson(lambda_, n)  # Générer les observations\n",
        "print(X)\n",
        "np.unique(X, return_counts=True)# juste pour vérifier l'histogramme"
      ]
    },
    {
      "cell_type": "code",
      "execution_count": null,
      "id": "960e0c9e",
      "metadata": {
        "id": "960e0c9e",
        "outputId": "a874d187-058a-4d3e-b5d9-5bd4ca17dc5f"
      },
      "outputs": [
        {
          "data": {
            "image/png": "[encoded data removed]",
            "text/plain": [
              "<Figure size 640x480 with 1 Axes>"
            ]
          },
          "metadata": {},
          "output_type": "display_data"
        }
      ],
      "source": [
        "\n",
        "# Traçons l'histogramme des observations de la distribution de poisson\n",
        "plt.hist(X, bins=np.arange(-0.5, max(X) + 1.5, 1), color=\"blue\", edgecolor=\"black\")\n",
        "plt.xlabel(\"Nombre de clients\")\n",
        "plt.ylabel(\"Fréquence\")\n",
        "plt.title(\"Distribution de Poisson avec lambda = 3\")\n",
        "plt.grid(axis='y', alpha=0.75)\n",
        "plt.show()\n"
      ]
    }
  ],
  "metadata": {
    "kernelspec": {
      "display_name": "Python 3 (ipykernel)",
      "language": "python",
      "name": "python3"
    },
    "language_info": {
      "codemirror_mode": {
        "name": "ipython",
        "version": 3
      },
      "file_extension": ".py",
      "mimetype": "text/x-python",
      "name": "python",
      "nbconvert_exporter": "python",
      "pygments_lexer": "ipython3",
      "version": "3.11.5"
    },
    "colab": {
      "provenance": []
    }
  },
  "nbformat": 4,
  "nbformat_minor": 5
}