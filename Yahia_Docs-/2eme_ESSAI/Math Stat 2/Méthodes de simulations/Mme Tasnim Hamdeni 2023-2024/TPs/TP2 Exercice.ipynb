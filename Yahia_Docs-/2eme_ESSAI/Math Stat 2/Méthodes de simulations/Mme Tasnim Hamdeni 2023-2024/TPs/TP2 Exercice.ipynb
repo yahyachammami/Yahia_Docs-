{
  "cells": [
    {
      "cell_type": "markdown",
      "id": "6de9ff8c",
      "metadata": {
        "id": "6de9ff8c"
      },
      "source": [
        "# Exercice :\n",
        "\n",
        "Soit $X$ une v.a. discrète qui prend les valeurs $\\{1,2,3,4\\}$. On considère la loi $\\mathcal{v}$ de $X$ par: $P(X=1)=0.1 $, $P(X=2)= 0.2$, $P(X=3)=0.3 $ et $P(X=4)= 0.4$. On souhaite simuler la variable aléatoire discrète.\n",
        "\n",
        "#### 1. Trouver la fonction de répartition de $X$."
      ]
    },
    {
      "cell_type": "code",
      "execution_count": null,
      "id": "1096b2e5",
      "metadata": {
        "id": "1096b2e5"
      },
      "outputs": [],
      "source": [
        "import numpy as np\n",
        "import matplotlib.pyplot as plt"
      ]
    },
    {
      "cell_type": "code",
      "execution_count": null,
      "id": "ea568044",
      "metadata": {
        "id": "ea568044",
        "outputId": "fd9d34a5-4a95-4392-9092-0fddd3925e69"
      },
      "outputs": [
        {
          "name": "stdout",
          "output_type": "stream",
          "text": [
            "[0.1 0.3 0.6 1. ]\n"
          ]
        }
      ],
      "source": [
        "probabilities =[0.1, 0.2, 0.3, 0.4]\n",
        "F = np.cumsum(probabilities)\n",
        "print(F)"
      ]
    },
    {
      "cell_type": "markdown",
      "id": "46c03de5",
      "metadata": {
        "id": "46c03de5"
      },
      "source": [
        "\n",
        "#### 2. Générer un nombre aléatoire $u$ compris entre $0$ et $1$.\n"
      ]
    },
    {
      "cell_type": "code",
      "execution_count": null,
      "id": "050af80c",
      "metadata": {
        "id": "050af80c",
        "outputId": "587d6a4c-5dfe-44c5-8cff-b225454b387d"
      },
      "outputs": [
        {
          "name": "stdout",
          "output_type": "stream",
          "text": [
            "0.2642044699983629\n"
          ]
        }
      ],
      "source": [
        "np.random.seed()\n",
        "u = np.random.uniform(0, 1)\n",
        "print(u)"
      ]
    },
    {
      "cell_type": "markdown",
      "id": "9000d327",
      "metadata": {
        "id": "9000d327"
      },
      "source": [
        "#### 3. Simuler une réalisation de $X$. Il s'agit de trouver l'indice $j$ tel que $F(j-1)< u \\leq F(j)$ et associer la valeur $X=j$.\n",
        "\n"
      ]
    },
    {
      "cell_type": "code",
      "execution_count": null,
      "id": "f5a75f05",
      "metadata": {
        "id": "f5a75f05",
        "outputId": "828f567f-4731-47d6-cad5-f9c9b0ef7bf6"
      },
      "outputs": [
        {
          "name": "stdout",
          "output_type": "stream",
          "text": [
            "[0.1 0.3 0.6 1. ]\n"
          ]
        }
      ],
      "source": [
        "print(F)"
      ]
    },
    {
      "cell_type": "code",
      "execution_count": null,
      "id": "613cded5",
      "metadata": {
        "id": "613cded5",
        "outputId": "4eef0eb3-bdd9-471c-e50e-0a901b995b82"
      },
      "outputs": [
        {
          "data": {
            "text/plain": [
              "0.2642044699983629"
            ]
          },
          "execution_count": 6,
          "metadata": {},
          "output_type": "execute_result"
        }
      ],
      "source": [
        "u"
      ]
    },
    {
      "cell_type": "code",
      "execution_count": null,
      "id": "a4320fec",
      "metadata": {
        "id": "a4320fec",
        "outputId": "3abb0edc-2a67-4bcc-846c-cbb4bc0f6abd"
      },
      "outputs": [
        {
          "name": "stdout",
          "output_type": "stream",
          "text": [
            "2\n"
          ]
        }
      ],
      "source": [
        "if u <= F[0]:\n",
        "    X = 1\n",
        "elif u <= F[1]:\n",
        "    X = 2\n",
        "elif u <= F[2]:\n",
        "    X = 3\n",
        "else:\n",
        "    X = 4\n",
        "print(X)\n"
      ]
    },
    {
      "cell_type": "code",
      "execution_count": null,
      "id": "289a60fb",
      "metadata": {
        "id": "289a60fb",
        "outputId": "29b108af-b655-4561-eeda-06594b409478"
      },
      "outputs": [
        {
          "name": "stdout",
          "output_type": "stream",
          "text": [
            "2\n"
          ]
        }
      ],
      "source": [
        "#autrement\n",
        "def simulate_realization(cumulative_probabilities, u):\n",
        "    for j, cp in enumerate(cumulative_probabilities, start=1):\n",
        "        #start =0 par déf\n",
        "        if u <= cp:\n",
        "            return j\n",
        "x_realization = simulate_realization(F, u)\n",
        "print(x_realization)"
      ]
    },
    {
      "cell_type": "markdown",
      "id": "8d235692",
      "metadata": {
        "id": "8d235692"
      },
      "source": [
        "### 4. Simuler plusieurs réalisations de $X$.\n"
      ]
    },
    {
      "cell_type": "code",
      "execution_count": null,
      "id": "4e9f0932",
      "metadata": {
        "id": "4e9f0932",
        "outputId": "3ba01e7c-a189-45e7-aaa8-aa11e14ecd23"
      },
      "outputs": [
        {
          "name": "stdout",
          "output_type": "stream",
          "text": [
            "[4. 2. 2. 3. 4. 3. 4. 4. 3. 3. 3. 4. 3. 1. 3. 4. 2. 2. 3. 3. 4. 4. 4. 4.\n",
            " 4. 3. 3. 2. 2. 4. 1. 3. 3. 3. 3. 3. 3. 4. 4. 3. 4. 2. 3. 3. 4. 2. 3. 4.\n",
            " 3. 4. 2. 4. 4. 3. 3. 3. 3. 4. 4. 3. 4. 3. 4. 4. 4. 1. 4. 2. 2. 3. 1. 4.\n",
            " 4. 4. 1. 3. 3. 2. 2. 4. 3. 4. 3. 3. 4. 4. 3. 1. 3. 3. 4. 4. 3. 4. 3. 4.\n",
            " 2. 3. 2. 3.]\n"
          ]
        }
      ],
      "source": [
        "np.random.seed(123)\n",
        "n = 100\n",
        "X = np.zeros(n)\n",
        "\n",
        "F = np.cumsum([0.1, 0.2, 0.3, 0.4])\n",
        "\n",
        "for i in range(n):\n",
        "    u = np.random.uniform(0, 1)\n",
        "    if u <= F[0]:\n",
        "        X[i] = 1\n",
        "    elif u <= F[1]:\n",
        "        X[i] = 2\n",
        "    elif u <= F[2]:\n",
        "        X[i] = 3\n",
        "    else:\n",
        "        X[i] = 4\n",
        "print(X)"
      ]
    },
    {
      "cell_type": "code",
      "execution_count": null,
      "id": "4e9cb22b",
      "metadata": {
        "id": "4e9cb22b",
        "outputId": "d500e115-0b0b-4ed5-cd46-8eec3255641d"
      },
      "outputs": [
        {
          "name": "stdout",
          "output_type": "stream",
          "text": [
            "[3 4 2 2 3 4 4 3 4 3 3 3 2 4 3 3 3 3 1 4 4 2 2 3 4 4 2 3 4 3 4 2 4 4 4 1 3\n",
            " 2 3 3 1 2 4 3 3 4 4 1 4 4 2 4 2 3 4 2 4 4 4 3 3 4 3 1 3 4 3 4 4 3 4 1 4 4\n",
            " 4 2 1 2 3 3 3 2 2 4 3 4 1 3 4 3 2 4 3 4 1 4 1 4 3 2]\n"
          ]
        }
      ],
      "source": [
        "#autrement\n",
        "simulations = np.array([simulate_realization(F, np.random.uniform(0, 1)) for _ in range(n)])\n",
        "print(simulations)\n"
      ]
    },
    {
      "cell_type": "markdown",
      "id": "7d7ab81f",
      "metadata": {
        "id": "7d7ab81f"
      },
      "source": [
        "#### 5. Vérifier que la distribution empirique de $X$ correspond à la distribution théorique en traçant un histogramme."
      ]
    },
    {
      "cell_type": "code",
      "execution_count": null,
      "id": "458aefc0",
      "metadata": {
        "scrolled": true,
        "id": "458aefc0",
        "outputId": "06fb61f2-19f1-48c1-93b5-d1b6f93f2aa3"
      },
      "outputs": [
        {
          "data": {
            "image/png": "[encoded data removed]",
            "text/plain": [
              "<Figure size 640x480 with 1 Axes>"
            ]
          },
          "metadata": {},
          "output_type": "display_data"
        },
        {
          "name": "stdout",
          "output_type": "stream",
          "text": [
            "[4. 2. 2. 3. 4. 3. 4. 4. 3. 3. 3. 4. 3. 1. 3. 4. 2. 2. 3. 3. 4. 4. 4. 4.\n",
            " 4. 3. 3. 2. 2. 4. 1. 3. 3. 3. 3. 3. 3. 4. 4. 3. 4. 2. 3. 3. 4. 2. 3. 4.\n",
            " 3. 4. 2. 4. 4. 3. 3. 3. 3. 4. 4. 3. 4. 3. 4. 4. 4. 1. 4. 2. 2. 3. 1. 4.\n",
            " 4. 4. 1. 3. 3. 2. 2. 4. 3. 4. 3. 3. 4. 4. 3. 1. 3. 3. 4. 4. 3. 4. 3. 4.\n",
            " 2. 3. 2. 3.]\n"
          ]
        }
      ],
      "source": [
        "plt.hist(X, bins=[0.5, 1.5, 2.5, 3.5, 4.5], color=\"lightblue\", edgecolor=\"black\")\n",
        "plt.title(\"Histogramme de la simulation de X\")\n",
        "plt.xlabel(\"Valeurs de X\")\n",
        "plt.ylabel(\"Fréquence\")\n",
        "\n",
        "p = [0.1, 0.2, 0.3, 0.4]\n",
        "plt.scatter([1, 2, 3, 4], np.array(p) * n, color=\"red\", zorder=5)  # zorder to plot on top\n",
        "plt.legend([\"Simulation\", \"Théorie\"], loc=\"upper right\")\n",
        "plt.show()\n",
        "print(X)"
      ]
    },
    {
      "cell_type": "code",
      "execution_count": null,
      "id": "25b5c18b",
      "metadata": {
        "id": "25b5c18b"
      },
      "outputs": [],
      "source": []
    }
  ],
  "metadata": {
    "kernelspec": {
      "display_name": "Python 3 (ipykernel)",
      "language": "python",
      "name": "python3"
    },
    "language_info": {
      "codemirror_mode": {
        "name": "ipython",
        "version": 3
      },
      "file_extension": ".py",
      "mimetype": "text/x-python",
      "name": "python",
      "nbconvert_exporter": "python",
      "pygments_lexer": "ipython3",
      "version": "3.11.5"
    },
    "colab": {
      "provenance": []
    }
  },
  "nbformat": 4,
  "nbformat_minor": 5
}