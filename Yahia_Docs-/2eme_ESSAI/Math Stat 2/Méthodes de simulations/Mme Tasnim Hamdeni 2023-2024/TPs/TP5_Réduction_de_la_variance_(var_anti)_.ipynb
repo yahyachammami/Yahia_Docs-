{
  "cells": [
    {
      "cell_type": "markdown",
      "id": "290561f3",
      "metadata": {
        "id": "290561f3"
      },
      "source": [
        "\n",
        "    \n",
        "#   <div style=\"text-align: center;\"> Méthodes de Monte Carlo (2023-2024)  </div>\n",
        "#   <div style=\"text-align: center;\">TP5: Réduction de la variance\n",
        "  </div>     \n",
        "\n",
        "![purple-divider](https://user-images.githubusercontent.com/7065401/52071927-c1cd7100-2562-11e9-908a-dde91ba14e59.png)"
      ]
    },
    {
      "cell_type": "markdown",
      "id": "ce1399d3",
      "metadata": {
        "id": "ce1399d3"
      },
      "source": [
        "# Objectif\n",
        "\n",
        "On se propose d'implémenter des techniques de simulation telles que l'échantillonnage préférentiel et les variables antithétiques qui visent à réduire la variance de l'estimateur de Monte-Carlo."
      ]
    },
    {
      "cell_type": "markdown",
      "id": "754e3569",
      "metadata": {
        "id": "754e3569"
      },
      "source": [
        "# Partie 2: Variables antithétiques\n",
        "\n",
        "Cette méthode consiste à utiliser des variables aléatoires corrélées négativement afin de réduire la variance de l'estimateur. Plus précisément, au lieu de générer une seule suite de variables aléatoires, on en génère deux qui sont corrélées négativement, c'est-à-dire que lorsque l'une prend une valeur élevée, l'autre prend une valeur faible et vice versa.\n",
        "\n",
        "L'estimateur d'intérêt est ensuite calculé en utilisant la moyenne des observations des deux suites de variables aléatoires. Ainsi, l'estimateur obtenu est plus précis que celui obtenu avec la méthode Monte-Carlo classique; Si $X_1, X_2, ..., X_n$ sont des variables aléatoires indépendantes et identiquement distribuées avec une moyenne $\\mu$ et une variance $\\sigma^2$, alors l'estimateur de Monte-Carlo classique est donné par :\n",
        "\n",
        "$$ \\hat{\\mu} = \\frac{1}{n} \\sum_{i=1}^n X_i $$\n",
        "\n",
        "Avec la méthode des variables antithétiques, on génère également une suite de variables aléatoires $Y_1, Y_2, ..., Y_n$ telles que $Y_i = g(X_i)$, où $g$ est une fonction qui établit une corrélation négative entre $X$ et $Y$. L'estimateur d'intérêt est alors donné par :\n",
        "\n",
        "$$ \\hat{\\mu} = \\frac{1}{2n} \\sum_{i=1}^n (X_i + Y_i) $$\n",
        "\n",
        "Avec cette méthode, la variance de l'estimateur est réduite de manière significative par rapport à l'estimateur classique de Monte-Carlo, car la covariance négative entre $X$ et $Y$ permet de compenser les erreurs de chaque suite de variables aléatoires.\n"
      ]
    },
    {
      "cell_type": "markdown",
      "id": "61660fb8",
      "metadata": {
        "id": "61660fb8"
      },
      "source": [
        "\n",
        "On souhaite calculer: $$ I= \\int_0^2 e^{-x^2} dx $$\n",
        "\n",
        "1- Utiliser Python pour calculer I directement."
      ]
    },
    {
      "cell_type": "code",
      "execution_count": null,
      "id": "85610674",
      "metadata": {
        "id": "85610674",
        "outputId": "b37d9384-d020-419b-aa43-d7bde1f85e98"
      },
      "outputs": [
        {
          "name": "stdout",
          "output_type": "stream",
          "text": [
            "I= 0.8820813907624215\n",
            "Erreur= 9.793070696178202e-15\n"
          ]
        }
      ],
      "source": [
        "# méthode 1: avec scipy\n",
        "from scipy.integrate import quad\n",
        "import numpy as np\n",
        "\n",
        "\n",
        "def f(x):\n",
        "    return np.exp(-x**2)\n",
        "\n",
        "\n",
        "I, erreur=quad(f, 0,2)\n",
        "\n",
        "print('I=', I)\n",
        "print('Erreur=',erreur)"
      ]
    },
    {
      "cell_type": "code",
      "execution_count": null,
      "id": "c113af53",
      "metadata": {
        "id": "c113af53",
        "outputId": "7a7e9a8e-214e-46b7-9701-35133d3ebf6c"
      },
      "outputs": [
        {
          "data": {
            "text/plain": [
              "0.8820813662926712"
            ]
          },
          "execution_count": 14,
          "metadata": {},
          "output_type": "execute_result"
        }
      ],
      "source": [
        "# Méthode 2 :\n",
        "from scipy.integrate import trapz\n",
        "\n",
        "# Définir les points x et y pour la méthode des trapèzes\n",
        "x = np.linspace(0, 2, 1000)\n",
        "y = np.exp(-x**2)\n",
        "\n",
        "# Calculer l'intégrale avec la méthode des trapèzes\n",
        "trapz_result = trapz(y, x)\n",
        "trapz_result\n"
      ]
    },
    {
      "cell_type": "code",
      "execution_count": null,
      "id": "1e2076f1",
      "metadata": {
        "id": "1e2076f1",
        "outputId": "a31201a0-796e-4ae6-d006-f9ad6babcc8b"
      },
      "outputs": [
        {
          "data": {
            "text/plain": [
              "0.8820813907624216"
            ]
          },
          "execution_count": 25,
          "metadata": {},
          "output_type": "execute_result"
        }
      ],
      "source": [
        "#méthode 3: intégrale de gausse avec moyenne zéro et variance 1/2\n",
        "\n",
        "from scipy.stats import norm\n",
        "from math import sqrt, pi\n",
        "# norm.cdf la fonction de répartition de la loi normale\n",
        "I = sqrt(pi) * (norm.cdf(2, scale=sqrt(0.5)) - 0.5) # écart type: sqrt(1/2)\n",
        "I"
      ]
    },
    {
      "cell_type": "markdown",
      "id": "a3501659",
      "metadata": {
        "id": "a3501659"
      },
      "source": [
        "\n",
        "2- a-  Estimer I par la méthode de Monte-Carlo classique de deux façons différentes.\n",
        "\n",
        "\n"
      ]
    },
    {
      "cell_type": "code",
      "execution_count": null,
      "id": "f4aaa56f",
      "metadata": {
        "id": "f4aaa56f"
      },
      "outputs": [],
      "source": [
        "def MC_estim(y, level=0.95):\n",
        "    delta = np.mean(y)\n",
        "    s2 = np.var(y) / (len(y)-1)\n",
        "    e_delta = np.percentile(np.random.normal(0, 1, 10000), 100 * (1 + level) / 2) * np.sqrt(s2)\n",
        "    return {'value': delta, 'var': s2, 'IC.inf': delta - e_delta, 'IC.sup': delta + e_delta, 'level': level}\n"
      ]
    },
    {
      "cell_type": "code",
      "execution_count": null,
      "id": "9307a083",
      "metadata": {
        "scrolled": true,
        "id": "9307a083",
        "outputId": "7246cd14-dc2e-4fe5-8fd6-7753032521af"
      },
      "outputs": [
        {
          "name": "stdout",
          "output_type": "stream",
          "text": [
            "estimation 1:  0.9464903563835454 de variance :  0.0007825490313212195\n",
            "estimation 2:  0.9018603771868456 de variance :  0.0004661241507182316\n"
          ]
        }
      ],
      "source": [
        "n = 1000\n",
        "\n",
        "# Method 1\n",
        "x = np.random.normal(scale=np.sqrt(0.5), size=n) # échantillonner la pdf\n",
        "I_hat_1 = MC_estim(np.sqrt(np.pi) * ((x >= 0) & (x <= 2)))\n",
        "\n",
        "# Method 2\n",
        "u = np.random.uniform(0, 2, n)\n",
        "I_hat_2 = MC_estim(2 * np.exp(-u**2))\n",
        "\n",
        "#############################################################\"\"\n",
        "# # Définir la fonction à intégrer\n",
        "# def f(x):\n",
        "#     return np.exp(-x**2)\n",
        "\n",
        "# # Estimation de l'intégrale par Monte-Carlo\n",
        "# A_measure = 2  # mesure de l'intervalle [0, 2]\n",
        "# I_hat = (1/n) * np.sum(f(x)) * A_measure\n",
        "############################################################\"\"\"\n",
        "\n",
        "\n",
        "print('estimation 1: ', I_hat_1['value'], 'de variance : ', I_hat_1['var'])\n",
        "print('estimation 2: ',I_hat_2['value'], 'de variance : ', I_hat_2['var'])\n",
        "\n",
        "# I.hat.2 est plus efficace que I.hat.1 en terme de variance\n"
      ]
    },
    {
      "cell_type": "markdown",
      "id": "beb0e62d",
      "metadata": {
        "id": "beb0e62d"
      },
      "source": [
        "\n",
        "   b- Donner les intervalles de confiance au niveau 0.95 correspondant aux estimateurs précédents."
      ]
    },
    {
      "cell_type": "code",
      "execution_count": null,
      "id": "c3b40004",
      "metadata": {
        "id": "c3b40004",
        "outputId": "cfbac723-959f-4874-d7bb-92ef443ab673"
      },
      "outputs": [
        {
          "name": "stdout",
          "output_type": "stream",
          "text": [
            "Intervalle de confiance : [ 0.8919255511413686 , 1.0010551616257222 ]\n",
            "Intervalle de confiance : [ 0.8592126959957224 , 0.9445080583779689 ]\n"
          ]
        }
      ],
      "source": [
        "print('Intervalle de confiance : [',I_hat_1['IC.inf'],',' , I_hat_1['IC.sup'],']')\n",
        "print('Intervalle de confiance : [',I_hat_2['IC.inf'],',' , I_hat_2['IC.sup'],']')\n"
      ]
    },
    {
      "cell_type": "markdown",
      "id": "ca41f304",
      "metadata": {
        "id": "ca41f304"
      },
      "source": [
        "3- a- Pour chacun des estimateurs précédents, proposer une méthode alternative utilisant une variable antithétique.\n"
      ]
    },
    {
      "cell_type": "code",
      "execution_count": null,
      "id": "126f1d3e",
      "metadata": {
        "id": "126f1d3e",
        "outputId": "7b9c2388-85e5-4429-cbd6-3b09d9ab121a"
      },
      "outputs": [
        {
          "data": {
            "text/plain": [
              "-0.9574455378328086"
            ]
          },
          "execution_count": 151,
          "metadata": {},
          "output_type": "execute_result"
        }
      ],
      "source": [
        "from scipy.stats import pearsonr\n",
        "\n",
        "u = np.random.uniform(0, 2, n)\n",
        "\n",
        "correlation_coefficient, p_value = pearsonr(np.exp(-u**2), np.exp(-(2 - u)**2))\n",
        "correlation_coefficient"
      ]
    },
    {
      "cell_type": "code",
      "execution_count": null,
      "id": "7f3783b6",
      "metadata": {
        "id": "7f3783b6",
        "outputId": "a5a632b8-1dc3-4a82-d3b1-59fd3e3d6e79"
      },
      "outputs": [
        {
          "name": "stdout",
          "output_type": "stream",
          "text": [
            "estimation 3:  0.8809095639000416 de variance :  4.688803449952333e-06\n",
            "estimation 4:  0.8849532068361942 de variance :  1.0374252187300425e-05\n"
          ]
        }
      ],
      "source": [
        "# Method 1\n",
        "I_hat_3 = MC_estim(0.5 * np.sqrt(np.pi) * (np.abs(x) <= 2))\n",
        "print('estimation 3: ',I_hat_3['value'], 'de variance : ', I_hat_3['var'])\n",
        "\n",
        "# Method 2\n",
        "I_hat_4 = MC_estim(np.exp(-u**2) + np.exp(-(2 - u)**2))\n",
        "print('estimation 4: ',I_hat_4['value'], 'de variance : ', I_hat_4['var'])\n"
      ]
    },
    {
      "cell_type": "markdown",
      "id": "419ea158",
      "metadata": {
        "id": "419ea158"
      },
      "source": [
        "b- Donner les intervalles de confiance au niveau 0.95 correspondant aux estimateurs précédents."
      ]
    },
    {
      "cell_type": "code",
      "execution_count": null,
      "id": "8d12efc1",
      "metadata": {
        "id": "8d12efc1",
        "outputId": "aeb411c0-8a29-49f0-b9b3-0eb6f15e37ec"
      },
      "outputs": [
        {
          "name": "stdout",
          "output_type": "stream",
          "text": [
            "Intervalle de confiance : [ 0.8766721576769972 , 0.885146970123086 ]\n",
            "Intervalle de confiance : [ 0.8787018003549003 , 0.891204613317488 ]\n"
          ]
        }
      ],
      "source": [
        "print('Intervalle de confiance : [',I_hat_3['IC.inf'],',' , I_hat_3['IC.sup'],']')\n",
        "\n",
        "print('Intervalle de confiance : [',I_hat_4['IC.inf'],',' , I_hat_4['IC.sup'],']')\n"
      ]
    }
  ],
  "metadata": {
    "kernelspec": {
      "display_name": "Python 3 (ipykernel)",
      "language": "python",
      "name": "python3"
    },
    "language_info": {
      "codemirror_mode": {
        "name": "ipython",
        "version": 3
      },
      "file_extension": ".py",
      "mimetype": "text/x-python",
      "name": "python",
      "nbconvert_exporter": "python",
      "pygments_lexer": "ipython3",
      "version": "3.11.5"
    },
    "colab": {
      "provenance": []
    }
  },
  "nbformat": 4,
  "nbformat_minor": 5
}