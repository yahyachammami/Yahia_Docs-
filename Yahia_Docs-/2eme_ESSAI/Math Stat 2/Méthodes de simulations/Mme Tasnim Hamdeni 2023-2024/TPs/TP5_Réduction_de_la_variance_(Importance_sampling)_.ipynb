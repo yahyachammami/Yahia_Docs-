{
  "cells": [
    {
      "cell_type": "markdown",
      "id": "290561f3",
      "metadata": {
        "id": "290561f3"
      },
      "source": [
        "\n",
        "    \n",
        "#   <div style=\"text-align: center;\"> Méthodes de Monte Carlo (2023-2024)  </div>\n",
        "#   <div style=\"text-align: center;\">TP5: Réduction de la variance\n",
        "  </div>     \n",
        "\n",
        "![purple-divider](https://user-images.githubusercontent.com/7065401/52071927-c1cd7100-2562-11e9-908a-dde91ba14e59.png)"
      ]
    },
    {
      "cell_type": "markdown",
      "id": "ce1399d3",
      "metadata": {
        "id": "ce1399d3"
      },
      "source": [
        "# Objectif\n",
        "\n",
        "On se propose d'implémenter des techniques de simulation telles que l'échantillonnage préférentiel et les variables antithétiques qui visent à réduire la variance de l'estimateur de Monte-Carlo."
      ]
    },
    {
      "cell_type": "markdown",
      "id": "aa0180ac",
      "metadata": {
        "id": "aa0180ac"
      },
      "source": [
        "# Partie 1: Échantillonnage préférentiel (Importance Sampling)\n",
        "\n",
        "Il s'agit d'une méthode d'estimation de l'espérance d'une fonction d'une variable aléatoire X, lorsque l'évaluation directe de cette espérance est difficile ou impossible.\n",
        "\n",
        "$$ \\mu = E(X) = E\\left( h(X) \\frac{\\pi(X)}{g(X)} \\right)$$\n",
        "\n",
        "La méthode consiste à tirer des échantillons d'une distribution instrumentale (aussi appelée loi d'importance ou de proposition) notée $g(X)$ qui est plus facile à échantillonner que la distribution d'intérêt (ou la distribution cible) notée $\\pi(X)$ . Les échantillons sont pondérés par le rapport entre la densité de probabilité de la distribution cible et celle de la loi instrumentale, appelé poids d'importance.\n",
        "\n",
        "$$W(i)=\\frac{\\pi(X(i))}{g(X(i))}$$\n",
        "\n",
        "La moyenne pondérée des échantillons fournit alors une estimation de l'espérance de la fonction sous la distribution cible.\n",
        "\n",
        "$$\\hat{\\mu}= \\frac{W(1)h(X(1)) +... + W(m)h(X(m)) }{m}$$\n",
        "\n",
        "Cette méthode peut être utilisée pour évaluer des intégrales, des probabilités, ou pour effectuer une optimisation stochastique et réduire la variance.\n",
        "\n",
        "\n",
        "   "
      ]
    },
    {
      "cell_type": "code",
      "execution_count": null,
      "id": "f564fcf8",
      "metadata": {
        "id": "f564fcf8"
      },
      "outputs": [],
      "source": [
        "# X suit la loi cible pi(X)\n"
      ]
    },
    {
      "cell_type": "code",
      "execution_count": null,
      "id": "a3ceffc3",
      "metadata": {
        "id": "a3ceffc3"
      },
      "outputs": [],
      "source": [
        "# vise à concentrer les ressources de simulation là où elles ont le plus d'impact sur l'estimation."
      ]
    },
    {
      "cell_type": "markdown",
      "id": "71e2d63d",
      "metadata": {
        "id": "71e2d63d"
      },
      "source": [
        "\n",
        "On cherche à estimer $E(e^{-X+ \\cos(X)})$.\n",
        "\n",
        "1- En considérant $X_1, . . . ,X_n$ des réalisations de variables aléatoires i.i.d. suivant la loi de $EXP(1)$, Estimer $\\mu$ avec Monte-Carlo naive.\n",
        "    "
      ]
    },
    {
      "cell_type": "code",
      "execution_count": null,
      "id": "6808310f",
      "metadata": {
        "id": "6808310f"
      },
      "outputs": [],
      "source": [
        "# h(x)= e^(X+cos(X)) donnée\n"
      ]
    },
    {
      "cell_type": "code",
      "execution_count": null,
      "id": "a5924cc2",
      "metadata": {
        "id": "a5924cc2",
        "outputId": "6b592b4e-3d95-48ce-ae6e-197470e34de1"
      },
      "outputs": [
        {
          "name": "stdout",
          "output_type": "stream",
          "text": [
            "Naive Monte Carlo mean: 1.1650429615466231\n"
          ]
        }
      ],
      "source": [
        "import numpy as np\n",
        "\n",
        "# Tâche : Estimer E(e^{-X + cos(X)}) en utilisant Monte Carlo naïve\n",
        "\n",
        "# Nombre d'échantillons\n",
        "n = 10000\n",
        "\n",
        "# Générer n échantillons d'une distribution exponentielle avec lambda=1 (ou (scale=1, size=m))\n",
        "X = np.random.exponential(1, n)\n",
        "\n",
        "# Fonctions h(x)\n",
        "def h(x):\n",
        "    return np.exp(-x + np.cos(x))\n",
        "\n",
        "# Calculer la fonction pour chaque échantillon\n",
        "estimations = h(X)\n",
        "\n",
        "# Calculer la moyenne (estimateur de Monte Carlo)\n",
        "estimation_mc_naive = np.mean(estimations)\n",
        "\n",
        "# Affichage des résultats\n",
        "print(\"Naive Monte Carlo mean:\", estimation_mc_naive)\n"
      ]
    },
    {
      "cell_type": "code",
      "execution_count": null,
      "id": "e396fdfc",
      "metadata": {
        "id": "e396fdfc",
        "outputId": "21c59e8b-b259-49d9-fe41-4a936622573f"
      },
      "outputs": [
        {
          "name": "stdout",
          "output_type": "stream",
          "text": [
            "Naive Monte Carlo standard deviation: 0.008780039545945523\n"
          ]
        }
      ],
      "source": [
        "# Si on veut calculer l'écart type\n",
        "mc_std = np.sqrt(np.var(estimations) / n)\n",
        "print(\"Naive Monte Carlo standard deviation:\",mc_std )\n"
      ]
    },
    {
      "cell_type": "markdown",
      "id": "32940dab",
      "metadata": {
        "id": "32940dab"
      },
      "source": [
        "2- Donner une proposition de distribution instrumentale. Utiliser une visualisation pour appuyer votre réponse."
      ]
    },
    {
      "cell_type": "markdown",
      "id": "4384e56f",
      "metadata": {
        "id": "4384e56f"
      },
      "source": [
        "#### Indications :\n",
        "*1- Visualiser $h(X).pi(X)$*\n",
        "\n",
        "*2- Analyser la courbe*\n",
        "\n",
        "*3- proposer une hypothèse initiale*\n",
        "\n",
        "*4- tracer $g(x)$ à coté de $h(X).pi(X)$*\n",
        "\n",
        "*5- Générer un ensemble de candidats pour $g(x)$ : Testez différentes\n",
        "    distributions ou paramètres et comparez les formes visuellement.*\n",
        "    \n",
        "*6- Ajuster la fonction (Si $g(x)$ diminue plus rapidement que $h(x)⋅π(x)$,\n",
        "    réduisez $λ$; si elle diminue plus lentement, augmentez $λ$.)*\n",
        "    \n",
        "*7-Évaluer la performance de chaque $g(x)$ : Utilisez une métrique\n",
        "    comme la variance des estimations pour évaluer la performance.*\n",
        "    "
      ]
    },
    {
      "cell_type": "code",
      "execution_count": null,
      "id": "b7cfc091",
      "metadata": {
        "id": "b7cfc091"
      },
      "outputs": [],
      "source": [
        "# h(x)= e^(-X+cos(X)) donnée\n",
        "# pi(X)= e^(-X) : distribution cible\n",
        "\n",
        "# Trouver g(x): la distribution instrumentale ? comment ?"
      ]
    },
    {
      "cell_type": "code",
      "execution_count": null,
      "id": "6db5bb2f",
      "metadata": {
        "id": "6db5bb2f"
      },
      "outputs": [],
      "source": [
        "# - doit être choisie en tenant compte de la distribution cible.\n",
        "# - similaire à la distribution cible, en particulier dans les régions où la fonction d'intérêt a des valeurs élevées.\n",
        "# - Choisissez une distribution à partir de laquelle il est facile de générer des échantillons.\n",
        "# - la distribution instrumentale g(x) couvre efficacement les régions où la fonction d'intérêt a des valeurs significatives.\n"
      ]
    },
    {
      "cell_type": "code",
      "execution_count": null,
      "id": "8a9c0fff",
      "metadata": {
        "scrolled": true,
        "id": "8a9c0fff",
        "outputId": "094d7f5a-33c6-415a-8e7a-dcc98093394a"
      },
      "outputs": [
        {
          "data": {
            "image/png": "[encoded data removed]",
            "text/plain": [
              "<Figure size 640x480 with 1 Axes>"
            ]
          },
          "metadata": {},
          "output_type": "display_data"
        }
      ],
      "source": [
        "#Comment trouver g(X)\n",
        "# astuce: plot h(X)*pi(X) et trouver une fonction qui lui est proche\n",
        "\n",
        "import matplotlib.pyplot as plt\n",
        "\n",
        "x_values = np.linspace(0, 5, 1000)\n",
        "\n",
        "def pi(x):\n",
        "    return np.exp(-x)\n",
        "\n",
        "plt.plot(x_values, h(x_values)*pi(x_values), label='h(X)*pi(X)', linewidth=3)\n",
        "\n",
        "\n",
        "plt.legend()\n",
        "plt.grid(True)\n",
        "plt.show()\n"
      ]
    },
    {
      "cell_type": "code",
      "execution_count": null,
      "id": "2b0a78d0",
      "metadata": {
        "scrolled": true,
        "id": "2b0a78d0",
        "outputId": "4a667161-dac8-4f52-e74a-6ae543484e48"
      },
      "outputs": [
        {
          "data": {
            "image/png": "[encoded data removed]",
            "text/plain": [
              "<Figure size 640x480 with 1 Axes>"
            ]
          },
          "metadata": {},
          "output_type": "display_data"
        }
      ],
      "source": [
        "# graph\n",
        "x_values = np.linspace(0, 2.5, 1000)\n",
        "\n",
        "plt.plot(x_values, h(x_values)*pi(x_values), label='h(X)*pi(X)', linewidth=3)\n",
        "plt.plot(x_values, pi(x_values), label='pi(X)', color='violet', linewidth=3)\n",
        "plt.plot(x_values, 2 * np.exp(-2 * x_values), label='2*exp(-2*x)', color='cyan', linewidth=3)\n",
        "\n",
        "plt.legend()\n",
        "plt.grid(True)\n",
        "plt.show()\n",
        "\n",
        "\n"
      ]
    },
    {
      "cell_type": "markdown",
      "id": "ac9a13b9",
      "metadata": {
        "id": "ac9a13b9"
      },
      "source": [
        "\n",
        "3- Calculer les poids d'importance.\n",
        "\n"
      ]
    },
    {
      "cell_type": "code",
      "execution_count": null,
      "id": "5738319a",
      "metadata": {
        "id": "5738319a"
      },
      "outputs": [],
      "source": [
        "# Importance Sampling\n",
        "\n",
        "# Génération des échantillons avec une distribution exponentielle\n",
        "# X = np.random.exponential(scale=1/2, size=m)\n",
        "def g(x):\n",
        "    return 2 * np.exp(-2 * x)\n",
        "\n",
        "\n",
        "weights= pi(X)/ g(X)"
      ]
    },
    {
      "cell_type": "markdown",
      "id": "c28fd86c",
      "metadata": {
        "id": "c28fd86c"
      },
      "source": [
        "4- Donner une estimation de $\\mu$ avec la méthode d'échantillonnage préférentiel. Comparer le résultat avec celui de Monte Carlo naive."
      ]
    },
    {
      "cell_type": "code",
      "execution_count": null,
      "id": "e579fc90",
      "metadata": {
        "id": "e579fc90",
        "outputId": "9f82e560-5a3b-45fc-e831-98bf90dc6c36"
      },
      "outputs": [
        {
          "name": "stdout",
          "output_type": "stream",
          "text": [
            "Estimated mu: 1.1600083533391614\n",
            "Standard deviation of mu: 0.0026512642065669384\n"
          ]
        }
      ],
      "source": [
        "mu = weights*h(X)\n",
        "\n",
        "mu_hat= np.mean(mu)\n",
        "\n",
        "# Affichage des résultats\n",
        "print(\"Estimated mu:\", mu_hat)\n",
        "print(\"Standard deviation of mu:\", np.sqrt(np.var(mu) / n))"
      ]
    }
  ],
  "metadata": {
    "kernelspec": {
      "display_name": "Python 3 (ipykernel)",
      "language": "python",
      "name": "python3"
    },
    "language_info": {
      "codemirror_mode": {
        "name": "ipython",
        "version": 3
      },
      "file_extension": ".py",
      "mimetype": "text/x-python",
      "name": "python",
      "nbconvert_exporter": "python",
      "pygments_lexer": "ipython3",
      "version": "3.11.5"
    },
    "colab": {
      "provenance": []
    }
  },
  "nbformat": 4,
  "nbformat_minor": 5
}