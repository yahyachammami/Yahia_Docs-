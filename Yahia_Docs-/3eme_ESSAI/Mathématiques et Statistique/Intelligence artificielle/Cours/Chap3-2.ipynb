{
  "cells": [
    {
      "cell_type": "markdown",
      "id": "bb04fa67",
      "metadata": {
        "id": "bb04fa67"
      },
      "source": [
        "  \n",
        "  \n",
        "   # Chapter 3- PART II: Text preprocessing for NLP\n",
        "\n",
        "<img src=\"https://user-images.githubusercontent.com/7065401/55025843-7d99a280-4fe0-11e9-938a-4879d95c4130.png\"\n",
        "    style=\"width:150px; float: right; margin: 0 40px 40px 40px;\"></img>\n",
        "    \n",
        "<img src=\"https://www.searchenginejournal.com/wp-content/uploads/2020/08/an-introduction-to-natural-language-processing-with-python-for-seos-5f3519eeb8368-1520x800.webp\" style=\"width:300px; float: left; margin: 0 40px 40px 40px;\"></img>\n",
        "\n",
        "    \n",
        "\n",
        "\n",
        "![purple-divider](https://user-images.githubusercontent.com/7065401/52071927-c1cd7100-2562-11e9-908a-dde91ba14e59.png)"
      ]
    },
    {
      "cell_type": "markdown",
      "id": "5c00f4de",
      "metadata": {
        "id": "5c00f4de"
      },
      "source": [
        "# Part II: Information Extraction - A glance at Regex for NLP"
      ]
    },
    {
      "cell_type": "markdown",
      "id": "ecf6523a",
      "metadata": {
        "id": "ecf6523a"
      },
      "source": [
        "### 1- What is a Regular Expression?\n",
        "\n",
        "A regular expression is a sequence of characters that defines a search pattern. It can be used to match strings or parts of strings based on specific criteria. Regular expressions are highly flexible and allow you to define complex patterns for text manipulation.\n",
        "Regex (Regular Expression) is a way to search through a text (equivalent to cntl+F; cntr + R)"
      ]
    },
    {
      "cell_type": "markdown",
      "id": "da85cb29",
      "metadata": {
        "id": "da85cb29"
      },
      "source": [
        "### 2-Common Use Cases:\n",
        "\n",
        "**Validation:** Regex is used to validate user input, such as email addresses, phone numbers, and passwords.\n",
        "Search and Replace: It's used for searching and replacing text within a document or a string.\n",
        "\n",
        "**Data Extraction:** Regex can extract specific data from structured or unstructured text.\n",
        "\n",
        "**Text Parsing:** It helps in parsing and analyzing text data, such as log files and configuration files.\n",
        "\n",
        "**Pattern Matching:** You can use regex to find patterns in text, like dates, URLs, or IP addresses.\n"
      ]
    },
    {
      "cell_type": "markdown",
      "id": "d73f4cad",
      "metadata": {
        "id": "d73f4cad"
      },
      "source": [
        "### 3- Basic Syntax:\n",
        "\n",
        "**Literals:** Most characters in a regex pattern are treated as literals and match themselves. For example, the pattern \"abc\" matches the string \"abc\" exactly.\n",
        "\n",
        "**Metacharacters:** Special characters with special meanings, such as :\n",
        "\n",
        "- **`.`** : Matches any single character except a newline.\n",
        "  - Example: `a.b` matches \"aab\", \"acb\", \"a1b\", etc.\n",
        "  \n",
        "- **`*`** : Matches zero or more occurrences of the preceding character.\n",
        "  - Example: `ab*` matches \"a\", \"ab\", \"abb\", \"abbb\", etc.\n",
        "\n",
        "- **`+`** : Matches one or more occurrences of the preceding character.\n",
        "  - Example: `ab+` matches \"ab\", \"abb\", \"abbb\", but not \"a\".\n",
        "\n",
        "- **`?`** : Matches zero or one occurrence of the preceding character.\n",
        "  - Example: `ab?` matches \"a\" or \"ab\".\n",
        "\n",
        "**Character Classes:** Square brackets **`[ ]`** define character classes. For example, [aeiou] matches any vowel.\n",
        "\n",
        "**Anchors:** **`^`** matches the start of a line, and **`$`** matches the end of a line.\n",
        "\n",
        "**Quantifiers:**  **`{}`** define the number of occurrences. For example, **`\\d{2,4}`** matches 2 to 4 digits.\n",
        "\n",
        "**Escape Sequences:** Backslashes **`\\`** are used to escape metacharacters when you want to match them as literals.\n"
      ]
    },
    {
      "cell_type": "markdown",
      "id": "1d6f1704",
      "metadata": {
        "id": "1d6f1704"
      },
      "source": [
        "![image.png](attachment:image.png)"
      ]
    },
    {
      "cell_type": "markdown",
      "id": "bb3d335d",
      "metadata": {
        "id": "bb3d335d"
      },
      "source": [
        "### 4- Examples:\n",
        "\n",
        "* **`^abc`**: Matches any string that starts with \"abc.\"\n",
        "* **`.\\d{2,4}`**: Matches any character followed by 2 to 4 digits.\n",
        "* **`[A-Za-z]+`**: Matches one or more uppercase or lowercase letters.\n",
        "* **`\\b\\d{5}\\b`**: Matches a 5-digit word (like a ZIP code) surrounded by word boundaries.\n"
      ]
    },
    {
      "cell_type": "markdown",
      "id": "a321dc08",
      "metadata": {
        "id": "a321dc08"
      },
      "source": [
        "### 5- Resources:\n",
        "\n",
        "    -  Online Regex Testers: Tools like RegExr, Regex101, and RegexPlanet allow you to experiment with regular expressions and see the matches in real-time.\n",
        "    -  Documentation: Refer to Python's re module documentation for Python-specific regex syntax and functions.\n",
        "    - ChatGPT 😉\n"
      ]
    },
    {
      "cell_type": "markdown",
      "id": "d8d1bac5",
      "metadata": {
        "id": "d8d1bac5"
      },
      "source": [
        "Regular expressions are a valuable skill for anyone working with text data or performing text processing tasks in programming. They can save you time and help you manipulate text effectively."
      ]
    },
    {
      "cell_type": "markdown",
      "id": "e88997c3",
      "metadata": {
        "id": "e88997c3"
      },
      "source": [
        "### Ressource 1: https://www.programiz.com/python-programming/regex"
      ]
    },
    {
      "cell_type": "markdown",
      "id": "897d1813",
      "metadata": {
        "id": "897d1813"
      },
      "source": [
        "![image.png](attachment:image.png)\n"
      ]
    },
    {
      "cell_type": "code",
      "execution_count": null,
      "id": "0fe0d299",
      "metadata": {
        "id": "0fe0d299"
      },
      "outputs": [],
      "source": [
        "import re\n",
        "\n",
        "pattern = '^a...s$'\n",
        "test_string = 'abyss'\n",
        "result = re.match(pattern, test_string)\n",
        "\n",
        "if result:\n",
        "      print(\"Search successful.\")\n",
        "else:\n",
        "      print(\"Search unsuccessful.\")\n"
      ]
    },
    {
      "cell_type": "markdown",
      "id": "7b71076e",
      "metadata": {
        "id": "7b71076e"
      },
      "source": [
        "![image.png](attachment:image.png)"
      ]
    },
    {
      "cell_type": "markdown",
      "id": "ff1aeac6",
      "metadata": {
        "id": "ff1aeac6"
      },
      "source": [
        "### Ressource 2: https://docs.python.org/3/library/re.html"
      ]
    },
    {
      "cell_type": "markdown",
      "id": "40b84810",
      "metadata": {
        "id": "40b84810"
      },
      "source": [
        "### Ressource 3: Regex101\n",
        "\n",
        "\"Regex101\" is a popular online platform for testing and experimenting with regular expressions (regex). It provides a user-friendly interface where you can input your regular expression patterns and test them against sample text.\n",
        "Ressource: https://regex101.com/\n",
        "\n",
        "\n",
        "\n"
      ]
    },
    {
      "cell_type": "code",
      "execution_count": null,
      "id": "15f81880",
      "metadata": {
        "id": "15f81880"
      },
      "outputs": [],
      "source": [
        "import re\n",
        "text_to_search='''\n",
        " ABCDEFGHIJKLMNOPQRSTUVWXYZ\n",
        " abcdefghijklmnopqrstuvwxyz\n",
        " metacharacters (need to be escaped):\n",
        " .^$-*/+!,? | \\ { } [ ] ( )\n",
        " deeplearning.ai\n",
        " (216)94371111\n",
        " 0021694376666\n",
        " #MyStudentsAreIncredible\n",
        " 00000000011122\n",
        " Mr. Mohamed\n",
        " Mrs. Amina\n",
        "abc@gmail.com\n",
        "abC@gmail.com\n",
        "ab_12@xyz.com\n",
        "\n",
        " '''"
      ]
    },
    {
      "cell_type": "markdown",
      "id": "f15c08ed",
      "metadata": {
        "id": "f15c08ed"
      },
      "source": [
        "### Example 1 : Extract full phone number from the text above"
      ]
    },
    {
      "cell_type": "code",
      "execution_count": null,
      "id": "7f4f242e",
      "metadata": {
        "id": "7f4f242e"
      },
      "outputs": [],
      "source": [
        "#"
      ]
    },
    {
      "cell_type": "code",
      "execution_count": null,
      "id": "8ca3801a",
      "metadata": {
        "scrolled": true,
        "id": "8ca3801a",
        "outputId": "2cce7343-bac5-4768-9461-f551e86c53f7"
      },
      "outputs": [
        {
          "data": {
            "text/plain": [
              "['0021694376666', '0000000001112']"
            ]
          },
          "execution_count": 8,
          "metadata": {},
          "output_type": "execute_result"
        }
      ],
      "source": [
        "pattern = '\\d{13}'\n",
        "matches = re.findall(pattern , text_to_search)\n",
        "matches"
      ]
    },
    {
      "cell_type": "code",
      "execution_count": null,
      "id": "210b47e1",
      "metadata": {
        "id": "210b47e1"
      },
      "outputs": [],
      "source": [
        "#"
      ]
    },
    {
      "cell_type": "code",
      "execution_count": null,
      "id": "181a20f0",
      "metadata": {
        "id": "181a20f0",
        "outputId": "b83e3ae5-05a2-4860-c65d-f3b4c70dd71e"
      },
      "outputs": [
        {
          "data": {
            "text/plain": [
              "['(216)94371111']"
            ]
          },
          "execution_count": 9,
          "metadata": {},
          "output_type": "execute_result"
        }
      ],
      "source": [
        "pattern = '\\(\\d{3}\\)\\d{8}'\n",
        "matches = re.findall(pattern , text_to_search)\n",
        "matches"
      ]
    },
    {
      "cell_type": "code",
      "execution_count": null,
      "id": "c78fe514",
      "metadata": {
        "id": "c78fe514"
      },
      "outputs": [],
      "source": [
        "#"
      ]
    },
    {
      "cell_type": "code",
      "execution_count": null,
      "id": "86a887a0",
      "metadata": {
        "id": "86a887a0",
        "outputId": "eafd04f9-cb9a-4451-c30b-91aa57e0aaaf"
      },
      "outputs": [
        {
          "data": {
            "text/plain": [
              "['(216)94371111', '0021694376666', '0000000001112']"
            ]
          },
          "execution_count": 10,
          "metadata": {},
          "output_type": "execute_result"
        }
      ],
      "source": [
        "pattern = '\\d{13}|\\(\\d{3}\\)\\d{8}'\n",
        "matches = re.findall(pattern , text_to_search)\n",
        "matches"
      ]
    },
    {
      "cell_type": "markdown",
      "id": "7c8b46ae",
      "metadata": {
        "id": "7c8b46ae"
      },
      "source": [
        "### Example 2 : Extract e-mail ID from the text above"
      ]
    },
    {
      "cell_type": "code",
      "execution_count": null,
      "id": "0fe54c31",
      "metadata": {
        "id": "0fe54c31",
        "outputId": "e6d1ef4b-c502-4957-9e12-387992eaae5d"
      },
      "outputs": [
        {
          "data": {
            "text/plain": [
              "['abc@gmail.com', 'abC@gmail.com', 'ab_12@xyz.com']"
            ]
          },
          "execution_count": 6,
          "metadata": {},
          "output_type": "execute_result"
        }
      ],
      "source": [
        "email_pattern = None\n",
        "matches= None\n",
        "matches"
      ]
    },
    {
      "cell_type": "markdown",
      "id": "0fdecf1a",
      "metadata": {
        "id": "0fdecf1a"
      },
      "source": [
        "# Exercice 1:"
      ]
    },
    {
      "cell_type": "markdown",
      "id": "12dc7643",
      "metadata": {
        "id": "12dc7643"
      },
      "source": [
        "You are given a list of email addresses, and your task is to use regex to find and extract valid email addresses from the list.\n",
        "\n",
        "1. alice@example.com\n",
        "2. bob@company.co.uk\n",
        "3. carol@-invalid.com\n",
        "4. david@123.45\n",
        "5. eve@domain.org\n",
        "6. frank@email.net\n",
        "7. grace@website.io\n",
        "8. hank@valid-email.com\n",
        "9. ian@name@domain.com\n",
        "10. jen@email123\n"
      ]
    },
    {
      "cell_type": "code",
      "execution_count": null,
      "id": "22712f3e",
      "metadata": {
        "id": "22712f3e",
        "outputId": "52b21094-cb02-42c5-b0ae-c74ccf4bf2f6"
      },
      "outputs": [
        {
          "name": "stdout",
          "output_type": "stream",
          "text": [
            "alice@example.com\n",
            "bob@company.co.uk\n",
            "carol@-invalid.com\n",
            "eve@domain.org\n",
            "frank@email.net\n",
            "grace@website.io\n",
            "hank@valid-email.com\n"
          ]
        }
      ],
      "source": [
        "None"
      ]
    },
    {
      "cell_type": "markdown",
      "id": "73b4884b",
      "metadata": {
        "id": "73b4884b"
      },
      "source": [
        "# Exercice 2:"
      ]
    },
    {
      "cell_type": "markdown",
      "id": "f7ff9ea1",
      "metadata": {
        "id": "f7ff9ea1"
      },
      "source": [
        "Write a regex pattern to match dates in the format \"dd/mm/yyyy\" in a given text.\n",
        "\n",
        "For example, given the text: \"Today's date is 24/09/2024, and tomorrow's date is 25/09/2024.\"\n",
        "\n",
        "Your regex pattern should find and return the following matches:\n",
        "\n",
        "\"24/09/2024\"\n",
        "\"25/09/2024\""
      ]
    },
    {
      "cell_type": "code",
      "execution_count": null,
      "id": "3bf1b82e",
      "metadata": {
        "id": "3bf1b82e",
        "outputId": "528533dd-17bc-408d-e956-e45bcb9cfa41"
      },
      "outputs": [
        {
          "name": "stdout",
          "output_type": "stream",
          "text": [
            "24/09/2024\n",
            "25/09/2024\n"
          ]
        }
      ],
      "source": [
        "None"
      ]
    }
  ],
  "metadata": {
    "kernelspec": {
      "display_name": "Python 3 (ipykernel)",
      "language": "python",
      "name": "python3"
    },
    "language_info": {
      "codemirror_mode": {
        "name": "ipython",
        "version": 3
      },
      "file_extension": ".py",
      "mimetype": "text/x-python",
      "name": "python",
      "nbconvert_exporter": "python",
      "pygments_lexer": "ipython3",
      "version": "3.11.5"
    },
    "colab": {
      "provenance": []
    }
  },
  "nbformat": 4,
  "nbformat_minor": 5
}