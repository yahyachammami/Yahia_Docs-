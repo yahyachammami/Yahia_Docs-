{
  "cells": [
    {
      "cell_type": "code",
      "execution_count": 1,
      "id": "542f97cb",
      "metadata": {
        "id": "542f97cb"
      },
      "outputs": [],
      "source": [
        "import gym\n",
        "import cv2\n",
        "import numpy as np\n",
        "import random\n",
        "\n",
        "\n",
        "env=gym.make(\"CartPole-v1\")\n",
        "state_size = env.observation_space\n",
        "state_size\n"
      ]
    },
    {
      "cell_type": "code",
      "source": [
        "### Discretisation\n",
        "low_values=np.array([-5, -5, -0.45, -5])\n",
        "high_values=np.array([5, 5, 0.45, 5])\n",
        "\n",
        "division=[42, 42, 42, 42]\n",
        "pas=(high_values-low_values)/division\n",
        "\n",
        "def discretise(state):\n",
        "    discrete_state=(state-low_values)/pas\n",
        "    return tuple(discrete_state.astype(int))"
      ],
      "metadata": {
        "id": "6D0trOgtJe4X"
      },
      "id": "6D0trOgtJe4X",
      "execution_count": 8,
      "outputs": []
    },
    {
      "cell_type": "code",
      "execution_count": 9,
      "id": "4898dd2f",
      "metadata": {
        "id": "4898dd2f",
        "outputId": "afc6e359-00a1-4288-f008-e525e5b05833",
        "colab": {
          "base_uri": "https://localhost:8080/"
        }
      },
      "outputs": [
        {
          "output_type": "execute_result",
          "data": {
            "text/plain": [
              "(20, 20, 19, 20)"
            ]
          },
          "metadata": {},
          "execution_count": 9
        }
      ],
      "source": [
        "#state = env.reset()\n",
        "#state = np.reshape(state, [1,4])\n",
        "#state\n",
        "obs1= env.reset()\n",
        "discretise(obs1)"
      ]
    },
    {
      "cell_type": "code",
      "execution_count": 10,
      "id": "b323c566",
      "metadata": {
        "id": "b323c566",
        "outputId": "1314aeae-a430-40dd-c1fc-1ba5c12eec9a",
        "colab": {
          "base_uri": "https://localhost:8080/"
        }
      },
      "outputs": [
        {
          "output_type": "execute_result",
          "data": {
            "text/plain": [
              "(42, 42, 42, 42, 2)"
            ]
          },
          "metadata": {},
          "execution_count": 10
        }
      ],
      "source": [
        "\n",
        "env._max_episode_steps=500\n",
        "\n",
        "alpha=0.05\n",
        "gamma=0.98\n",
        "\n",
        "epoch=50000\n",
        "show_every=500\n",
        "\n",
        "epsilon=1.\n",
        "epsilon_min=0.05\n",
        "start_epsilon=1\n",
        "end_epsilon=epoch//2\n",
        "epsilon_decay_value=epsilon/(end_epsilon-start_epsilon)\n",
        "\n",
        "nbr_action=env.action_space.n\n",
        "#q_table=np.random.uniform(low=-1, high=1, size=(CartPole_common.division+[nbr_action]))\n",
        "q_table=np.random.uniform(low=-1, high=1, size=(division+[nbr_action]))\n",
        "\n",
        "result_done=0\n",
        "scores=[]\n",
        "best_score=0\n",
        "q_table.shape"
      ]
    },
    {
      "cell_type": "code",
      "execution_count": null,
      "id": "2b95fc89",
      "metadata": {
        "id": "2b95fc89",
        "outputId": "7d371311-51cd-43c9-dd54-5c81476c9b06"
      },
      "outputs": [
        {
          "name": "stderr",
          "output_type": "stream",
          "text": [
            "C:\\Users\\CC\\.conda\\envs\\Tensorflow\\lib\\site-packages\\numpy\\core\\fromnumeric.py:3419: RuntimeWarning: Mean of empty slice.\n",
            "  return _methods._mean(a, axis=axis, dtype=dtype,\n",
            "C:\\Users\\CC\\.conda\\envs\\Tensorflow\\lib\\site-packages\\numpy\\core\\_methods.py:188: RuntimeWarning: invalid value encountered in double_scalars\n",
            "  ret = ret.dtype.type(ret / rcount)\n"
          ]
        },
        {
          "name": "stdout",
          "output_type": "stream",
          "text": [
            "Epoch 000000/050000 reussite:0000/0500 epsilon=1.0000 Mean score=00000nan alpha=0.0500\n",
            "Epoch 000500/050000 reussite:0000/0500 epsilon=0.9800 Mean score=021.7660 alpha=0.0495\n",
            "Sauvegarde ...\n",
            "Epoch 001000/050000 reussite:0000/0500 epsilon=0.9600 Mean score=022.2860 alpha=0.0490\n",
            "Sauvegarde ...\n",
            "Epoch 001500/050000 reussite:0000/0500 epsilon=0.9400 Mean score=021.9060 alpha=0.0485\n",
            "Epoch 002000/050000 reussite:0000/0500 epsilon=0.9200 Mean score=022.4340 alpha=0.0480\n",
            "Sauvegarde ...\n",
            "Epoch 002500/050000 reussite:0000/0500 epsilon=0.9000 Mean score=022.7600 alpha=0.0475\n",
            "Sauvegarde ...\n",
            "Epoch 003000/050000 reussite:0000/0500 epsilon=0.8800 Mean score=024.1820 alpha=0.0471\n",
            "Sauvegarde ...\n",
            "Epoch 003500/050000 reussite:0000/0500 epsilon=0.8600 Mean score=024.1520 alpha=0.0466\n",
            "Epoch 004000/050000 reussite:0000/0500 epsilon=0.8400 Mean score=025.6240 alpha=0.0461\n",
            "Sauvegarde ...\n",
            "Epoch 004500/050000 reussite:0000/0500 epsilon=0.8200 Mean score=027.1340 alpha=0.0457\n",
            "Sauvegarde ...\n",
            "Epoch 005000/050000 reussite:0000/0500 epsilon=0.8000 Mean score=028.4200 alpha=0.0452\n",
            "Sauvegarde ...\n",
            "Epoch 005500/050000 reussite:0000/0500 epsilon=0.7800 Mean score=030.0320 alpha=0.0448\n",
            "Sauvegarde ...\n",
            "Epoch 006000/050000 reussite:0000/0500 epsilon=0.7600 Mean score=029.8000 alpha=0.0443\n",
            "Epoch 006500/050000 reussite:0000/0500 epsilon=0.7400 Mean score=032.3140 alpha=0.0439\n",
            "Sauvegarde ...\n",
            "Epoch 007000/050000 reussite:0000/0500 epsilon=0.7200 Mean score=037.0440 alpha=0.0434\n",
            "Sauvegarde ...\n",
            "Epoch 007500/050000 reussite:0000/0500 epsilon=0.7000 Mean score=038.0120 alpha=0.0430\n",
            "Sauvegarde ...\n",
            "Epoch 008000/050000 reussite:0000/0500 epsilon=0.6800 Mean score=039.0980 alpha=0.0426\n",
            "Sauvegarde ...\n",
            "Epoch 008500/050000 reussite:0000/0500 epsilon=0.6600 Mean score=042.4120 alpha=0.0421\n",
            "Sauvegarde ...\n",
            "Epoch 009000/050000 reussite:0000/0500 epsilon=0.6400 Mean score=042.9220 alpha=0.0417\n",
            "Sauvegarde ...\n",
            "Epoch 009500/050000 reussite:0000/0500 epsilon=0.6200 Mean score=049.0900 alpha=0.0413\n",
            "Sauvegarde ...\n",
            "Epoch 010000/050000 reussite:0000/0500 epsilon=0.6000 Mean score=049.7040 alpha=0.0409\n",
            "Sauvegarde ...\n",
            "Epoch 010500/050000 reussite:0000/0500 epsilon=0.5800 Mean score=054.9720 alpha=0.0405\n",
            "Sauvegarde ...\n",
            "Epoch 011000/050000 reussite:0000/0500 epsilon=0.5600 Mean score=057.9840 alpha=0.0401\n",
            "Sauvegarde ...\n",
            "Epoch 011500/050000 reussite:0000/0500 epsilon=0.5400 Mean score=061.0140 alpha=0.0397\n",
            "Sauvegarde ...\n",
            "Epoch 012000/050000 reussite:0000/0500 epsilon=0.5200 Mean score=065.4060 alpha=0.0393\n",
            "Sauvegarde ...\n",
            "Epoch 012500/050000 reussite:0000/0500 epsilon=0.5000 Mean score=071.8400 alpha=0.0389\n",
            "Sauvegarde ...\n",
            "Epoch 013000/050000 reussite:0000/0500 epsilon=0.4800 Mean score=076.6480 alpha=0.0385\n",
            "Sauvegarde ...\n",
            "Epoch 013500/050000 reussite:0000/0500 epsilon=0.4600 Mean score=078.7360 alpha=0.0381\n",
            "Sauvegarde ...\n",
            "Epoch 014000/050000 reussite:0000/0500 epsilon=0.4400 Mean score=090.5980 alpha=0.0377\n",
            "Sauvegarde ...\n",
            "Epoch 014500/050000 reussite:0000/0500 epsilon=0.4200 Mean score=093.0220 alpha=0.0374\n",
            "Sauvegarde ...\n",
            "Epoch 015000/050000 reussite:0000/0500 epsilon=0.4000 Mean score=095.7540 alpha=0.0370\n",
            "Sauvegarde ...\n",
            "Epoch 015500/050000 reussite:0000/0500 epsilon=0.3800 Mean score=108.0280 alpha=0.0366\n",
            "Sauvegarde ...\n",
            "Epoch 016000/050000 reussite:0001/0500 epsilon=0.3600 Mean score=118.5120 alpha=0.0362\n",
            "Sauvegarde ...\n",
            "Epoch 016500/050000 reussite:0000/0500 epsilon=0.3400 Mean score=118.9160 alpha=0.0359\n",
            "Sauvegarde ...\n",
            "Epoch 017000/050000 reussite:0006/0500 epsilon=0.3200 Mean score=132.1060 alpha=0.0355\n",
            "Sauvegarde ...\n",
            "Epoch 017500/050000 reussite:0002/0500 epsilon=0.3000 Mean score=142.8880 alpha=0.0352\n",
            "Sauvegarde ...\n",
            "Epoch 018000/050000 reussite:0003/0500 epsilon=0.2800 Mean score=157.9300 alpha=0.0348\n",
            "Sauvegarde ...\n",
            "Epoch 018500/050000 reussite:0002/0500 epsilon=0.2600 Mean score=150.0400 alpha=0.0345\n",
            "Epoch 019000/050000 reussite:0011/0500 epsilon=0.2400 Mean score=171.8900 alpha=0.0341\n",
            "Sauvegarde ...\n",
            "Epoch 019500/050000 reussite:0006/0500 epsilon=0.2200 Mean score=171.7940 alpha=0.0338\n",
            "Epoch 020000/050000 reussite:0025/0500 epsilon=0.2000 Mean score=195.5660 alpha=0.0334\n",
            "Sauvegarde ...\n",
            "Epoch 020500/050000 reussite:0009/0500 epsilon=0.1800 Mean score=180.7580 alpha=0.0331\n",
            "Epoch 021000/050000 reussite:0083/0500 epsilon=0.1600 Mean score=278.2720 alpha=0.0328\n",
            "Sauvegarde ...\n",
            "Epoch 021500/050000 reussite:0044/0500 epsilon=0.1400 Mean score=229.1740 alpha=0.0325\n",
            "Epoch 022000/050000 reussite:0109/0500 epsilon=0.1200 Mean score=281.6660 alpha=0.0321\n",
            "Sauvegarde ...\n",
            "Epoch 022500/050000 reussite:0038/0500 epsilon=0.1000 Mean score=236.2320 alpha=0.0318\n",
            "Epoch 023000/050000 reussite:0075/0500 epsilon=0.0800 Mean score=275.1940 alpha=0.0315\n",
            "Epoch 023500/050000 reussite:0114/0500 epsilon=0.0600 Mean score=290.5520 alpha=0.0312\n",
            "Sauvegarde ...\n",
            "Epoch 024000/050000 reussite:0126/0500 epsilon=0.0500 Mean score=310.6720 alpha=0.0309\n",
            "Sauvegarde ...\n",
            "Epoch 024500/050000 reussite:0141/0500 epsilon=0.0500 Mean score=305.4280 alpha=0.0306\n",
            "Epoch 025000/050000 reussite:0020/0500 epsilon=0.0500 Mean score=206.7060 alpha=0.0303\n",
            "Epoch 025500/050000 reussite:0131/0500 epsilon=0.0500 Mean score=316.6720 alpha=0.0299\n",
            "Sauvegarde ...\n",
            "Epoch 026000/050000 reussite:0362/0500 epsilon=0.0500 Mean score=443.6260 alpha=0.0296\n",
            "Sauvegarde ...\n",
            "Epoch 026500/050000 reussite:0308/0500 epsilon=0.0500 Mean score=416.1740 alpha=0.0294\n",
            "Epoch 027000/050000 reussite:0051/0500 epsilon=0.0500 Mean score=248.4660 alpha=0.0291\n",
            "Epoch 027500/050000 reussite:0083/0500 epsilon=0.0500 Mean score=272.6900 alpha=0.0288\n",
            "Epoch 028000/050000 reussite:0083/0500 epsilon=0.0500 Mean score=274.6660 alpha=0.0285\n",
            "Epoch 028500/050000 reussite:0056/0500 epsilon=0.0500 Mean score=246.2140 alpha=0.0282\n",
            "Epoch 029000/050000 reussite:0243/0500 epsilon=0.0500 Mean score=380.4280 alpha=0.0279\n",
            "Epoch 029500/050000 reussite:0259/0500 epsilon=0.0500 Mean score=396.8400 alpha=0.0276\n",
            "Epoch 030000/050000 reussite:0211/0500 epsilon=0.0500 Mean score=351.9780 alpha=0.0274\n",
            "Epoch 030500/050000 reussite:0185/0500 epsilon=0.0500 Mean score=338.3340 alpha=0.0271\n",
            "Epoch 031000/050000 reussite:0099/0500 epsilon=0.0500 Mean score=284.4060 alpha=0.0268\n",
            "Epoch 031500/050000 reussite:0105/0500 epsilon=0.0500 Mean score=273.2460 alpha=0.0265\n",
            "Epoch 032000/050000 reussite:0259/0500 epsilon=0.0500 Mean score=385.0940 alpha=0.0263\n",
            "Epoch 032500/050000 reussite:0082/0500 epsilon=0.0500 Mean score=258.7700 alpha=0.0260\n",
            "Epoch 033000/050000 reussite:0084/0500 epsilon=0.0500 Mean score=272.7960 alpha=0.0258\n",
            "Epoch 033500/050000 reussite:0140/0500 epsilon=0.0500 Mean score=306.5440 alpha=0.0255\n",
            "Epoch 034000/050000 reussite:0100/0500 epsilon=0.0500 Mean score=282.4760 alpha=0.0252\n",
            "Epoch 034500/050000 reussite:0215/0500 epsilon=0.0500 Mean score=356.7060 alpha=0.0250\n",
            "Epoch 035000/050000 reussite:0116/0500 epsilon=0.0500 Mean score=309.4840 alpha=0.0247\n",
            "Epoch 035500/050000 reussite:0141/0500 epsilon=0.0500 Mean score=303.3200 alpha=0.0245\n",
            "Epoch 036000/050000 reussite:0164/0500 epsilon=0.0500 Mean score=318.5340 alpha=0.0242\n",
            "Epoch 036500/050000 reussite:0153/0500 epsilon=0.0500 Mean score=320.7160 alpha=0.0240\n",
            "Epoch 037000/050000 reussite:0128/0500 epsilon=0.0500 Mean score=321.0500 alpha=0.0238\n",
            "Epoch 037500/050000 reussite:0053/0500 epsilon=0.0500 Mean score=240.0720 alpha=0.0235\n",
            "Epoch 038000/050000 reussite:0315/0500 epsilon=0.0500 Mean score=406.4440 alpha=0.0233\n",
            "Epoch 038500/050000 reussite:0057/0500 epsilon=0.0500 Mean score=246.4280 alpha=0.0231\n",
            "Epoch 039000/050000 reussite:0074/0500 epsilon=0.0500 Mean score=261.4740 alpha=0.0228\n",
            "Epoch 039500/050000 reussite:0339/0500 epsilon=0.0500 Mean score=429.9680 alpha=0.0226\n",
            "Epoch 040000/050000 reussite:0237/0500 epsilon=0.0500 Mean score=365.3040 alpha=0.0224\n",
            "Epoch 040500/050000 reussite:0101/0500 epsilon=0.0500 Mean score=279.1540 alpha=0.0222\n",
            "Epoch 041000/050000 reussite:0144/0500 epsilon=0.0500 Mean score=302.5320 alpha=0.0219\n",
            "Epoch 041500/050000 reussite:0065/0500 epsilon=0.0500 Mean score=262.8840 alpha=0.0217\n",
            "Epoch 042000/050000 reussite:0123/0500 epsilon=0.0500 Mean score=309.2240 alpha=0.0215\n",
            "Epoch 042500/050000 reussite:0230/0500 epsilon=0.0500 Mean score=356.9260 alpha=0.0213\n",
            "Epoch 043000/050000 reussite:0362/0500 epsilon=0.0500 Mean score=445.2080 alpha=0.0211\n",
            "Sauvegarde ...\n",
            "Epoch 043500/050000 reussite:0161/0500 epsilon=0.0500 Mean score=323.3580 alpha=0.0209\n",
            "Epoch 044000/050000 reussite:0392/0500 epsilon=0.0500 Mean score=452.1240 alpha=0.0206\n",
            "Sauvegarde ...\n",
            "Epoch 044500/050000 reussite:0266/0500 epsilon=0.0500 Mean score=390.8340 alpha=0.0204\n",
            "Epoch 045000/050000 reussite:0095/0500 epsilon=0.0500 Mean score=269.1340 alpha=0.0202\n",
            "Epoch 045500/050000 reussite:0300/0500 epsilon=0.0500 Mean score=400.5380 alpha=0.0200\n",
            "Epoch 046000/050000 reussite:0369/0500 epsilon=0.0500 Mean score=435.9360 alpha=0.0198\n",
            "Epoch 046500/050000 reussite:0149/0500 epsilon=0.0500 Mean score=326.0020 alpha=0.0196\n",
            "Epoch 047000/050000 reussite:0068/0500 epsilon=0.0500 Mean score=258.7260 alpha=0.0194\n",
            "Epoch 047500/050000 reussite:0090/0500 epsilon=0.0500 Mean score=282.7880 alpha=0.0192\n",
            "Epoch 048000/050000 reussite:0153/0500 epsilon=0.0500 Mean score=329.1580 alpha=0.0191\n",
            "Epoch 048500/050000 reussite:0048/0500 epsilon=0.0500 Mean score=227.7380 alpha=0.0189\n",
            "Epoch 049000/050000 reussite:0101/0500 epsilon=0.0500 Mean score=292.5480 alpha=0.0187\n",
            "Epoch 049500/050000 reussite:0251/0500 epsilon=0.0500 Mean score=398.4980 alpha=0.0185\n"
          ]
        }
      ],
      "source": [
        "for episode in range(epoch):\n",
        "    obs=env.reset()\n",
        "    #discrete_state=CartPole_common.discretise(obs)\n",
        "    discrete_state=discretise(obs)\n",
        "    done=False\n",
        "\n",
        "    if episode%show_every == 0:\n",
        "        render=True\n",
        "        mean_score=np.mean(scores)\n",
        "        print(\"Epoch {:06d}/{:06d} reussite:{:04d}/{:04d} epsilon={:06.4f} Mean score={:08.4f} alpha={:06.4f}\".format(episode, epoch, result_done, show_every, epsilon, mean_score, alpha))\n",
        "        scores=[]\n",
        "        result_done=0\n",
        "        if mean_score>best_score:\n",
        "            print(\"Sauvegarde ...\")\n",
        "            np.save(\"CartPole_qtable\", q_table)\n",
        "            best_score=mean_score\n",
        "        alpha=alpha*0.99\n",
        "\n",
        "    else:\n",
        "        render=False\n",
        "\n",
        "    score=1\n",
        "    while not done:\n",
        "\n",
        "        if np.random.random()>epsilon:\n",
        "            action=np.argmax(q_table[discrete_state])\n",
        "        else:\n",
        "            action=np.random.randint(nbr_action)\n",
        "\n",
        "        new_state, reward, done, info=env.step(action)\n",
        "        #new_discrete_state=CartPole_common.discretise(new_state)\n",
        "        new_discrete_state=discretise(new_state)\n",
        "\n",
        "        if episode%show_every == 0:\n",
        "            env.render()\n",
        "\n",
        "        #reward=2-np.abs(new_state[0])\n",
        "        if done:\n",
        "            scores.append(score)\n",
        "            if score==env._max_episode_steps:\n",
        "                result_done+=1\n",
        "            else:\n",
        "                reward=-10\n",
        "\n",
        "        max_future_q=np.max(q_table[new_discrete_state])\n",
        "        current_q=q_table[discrete_state][action]\n",
        "        new_q=(1-alpha)*current_q+alpha*(reward+gamma*max_future_q)\n",
        "        q_table[discrete_state][action]=new_q\n",
        "\n",
        "        score+=1\n",
        "        discrete_state=new_discrete_state\n",
        "\n",
        "    if end_epsilon>=episode>=start_epsilon:\n",
        "        epsilon-=epsilon_decay_value\n",
        "        if epsilon<epsilon_min:\n",
        "            epsilon=epsilon_min\n",
        "\n",
        "env.close()"
      ]
    }
  ],
  "metadata": {
    "kernelspec": {
      "display_name": "Python 3",
      "language": "python",
      "name": "python3"
    },
    "language_info": {
      "codemirror_mode": {
        "name": "ipython",
        "version": 3
      },
      "file_extension": ".py",
      "mimetype": "text/x-python",
      "name": "python",
      "nbconvert_exporter": "python",
      "pygments_lexer": "ipython3",
      "version": "3.8.8"
    },
    "colab": {
      "provenance": []
    }
  },
  "nbformat": 4,
  "nbformat_minor": 5
}